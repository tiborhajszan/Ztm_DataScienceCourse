{
 "cells": [
  {
   "cell_type": "markdown",
   "metadata": {},
   "source": [
    "## Scikit-Learn (Sklearn) Course"
   ]
  },
  {
   "cell_type": "markdown",
   "metadata": {},
   "source": [
    "<span>\n",
    "0. sklearn workflow overview<br>\n",
    "1. preparing data (exploring, cleaning, transforming, reducing, splitting)<br>\n",
    "2. selecting the machine learning model / algorithm<br>\n",
    "3. training the algorithm and making predictions<br>\n",
    "4. evaluating the algorithm<br>\n",
    "5. improving the model<br>\n",
    "<span style=\"color:orange\">6. saving and loading the algorithm</span><br>\n",
    "7. putting it all together\n",
    "</span>"
   ]
  },
  {
   "cell_type": "markdown",
   "metadata": {},
   "source": [
    "## 6. Saving and Loading the Algorithm"
   ]
  },
  {
   "cell_type": "markdown",
   "metadata": {},
   "source": [
    "#### General concepts"
   ]
  },
  {
   "cell_type": "markdown",
   "metadata": {},
   "source": [
    "--- saving / loading tools  \n",
    "pickle python library (pickle.dump and pickle.load)  \n",
    "joblib python library (joblib.dump and joblib.load)  \n",
    "the joblib module is more efficient for trained sklearn algorithms"
   ]
  },
  {
   "cell_type": "markdown",
   "metadata": {},
   "source": [
    "#### Creating and training the algorithm"
   ]
  },
  {
   "cell_type": "code",
   "execution_count": null,
   "metadata": {},
   "outputs": [],
   "source": [
    "### imports\n",
    "import numpy, pandas\n",
    "from sklearn.model_selection import cross_val_score, RandomizedSearchCV\n",
    "from sklearn.ensemble import RandomForestClassifier"
   ]
  },
  {
   "cell_type": "code",
   "execution_count": null,
   "metadata": {},
   "outputs": [],
   "source": [
    "### preparing data\n",
    "\n",
    "### loading heart disease data into dataframe\n",
    "heart_disease = pandas.read_csv(\"data-heart-disease.csv\")\n",
    "\n",
    "### splitting data features <> target\n",
    "features = heart_disease.drop(columns=\"target\")\n",
    "target = heart_disease.loc[:, \"target\"]"
   ]
  },
  {
   "cell_type": "code",
   "execution_count": null,
   "metadata": {},
   "outputs": [],
   "source": [
    "### running randomized grid search\n",
    "\n",
    "### creating random grid\n",
    "random_grid = {\n",
    "    \"max_depth\": [None, 5, 10, 20, 30],\n",
    "    \"max_features\": [\"sqrt\"],\n",
    "    \"min_samples_leaf\": [1, 2, 4],\n",
    "    \"min_samples_split\": [2, 4, 6],\n",
    "    \"n_estimators\": [10, 100, 200, 500, 1000, 1200]}\n",
    "\n",
    "### creating randomized grid search object\n",
    "classifier_rscv = RandomizedSearchCV(\n",
    "    estimator=RandomForestClassifier(n_jobs=-1),\n",
    "    param_distributions=random_grid,\n",
    "    n_iter=45, cv=5, verbose=True)\n",
    "\n",
    "### training randomized grid search object\n",
    "numpy.random.seed(42)\n",
    "classifier_rscv.fit(X=features, y=target);"
   ]
  },
  {
   "cell_type": "code",
   "execution_count": null,
   "metadata": {},
   "outputs": [],
   "source": [
    "### reading best parameters\n",
    "classifier_rscv.best_params_"
   ]
  },
  {
   "cell_type": "code",
   "execution_count": null,
   "metadata": {},
   "outputs": [],
   "source": [
    "### classification algorithm evaluation function\n",
    "def evaluateAlgo(algorithm, features, target):\n",
    "    numpy.random.seed(42)\n",
    "    metrics_dict = {\n",
    "        \"Accuracy\": cross_val_score(estimator=algorithm, X=features, y=target, cv=5, scoring=\"accuracy\").mean(),\n",
    "        \"Precision\": cross_val_score(estimator=algorithm, X=features, y=target, cv=5, scoring=\"precision\").mean(),\n",
    "        \"Recall\": cross_val_score(estimator=algorithm, X=features, y=target, cv=5, scoring=\"recall\").mean(),\n",
    "        \"F1 Score\": cross_val_score(estimator=algorithm, X=features, y=target, cv=5, scoring=\"f1\").mean()}\n",
    "    print(f\"\"\"Accuracy: {100.0 * metrics_dict[\"Accuracy\"]:.3f}%\"\"\")\n",
    "    print(f\"\"\"Precision: {100.0 * metrics_dict[\"Precision\"]:.3f}%\"\"\")\n",
    "    print(f\"\"\"Recall: {100.0 * metrics_dict[\"Recall\"]:.3f}%\"\"\")\n",
    "    print(f\"\"\"F1 Score: {100.0 * metrics_dict[\"F1 Score\"]:.3f}%\"\"\")\n",
    "    return metrics_dict"
   ]
  },
  {
   "cell_type": "code",
   "execution_count": null,
   "metadata": {},
   "outputs": [],
   "source": [
    "### evaluating best estimator\n",
    "classifier_best = classifier_rscv.best_estimator_\n",
    "classifier_metrics = evaluateAlgo(classifier_best, features, target)"
   ]
  },
  {
   "cell_type": "markdown",
   "metadata": {},
   "source": [
    "#### Saving and loading the algorithm with pickle"
   ]
  },
  {
   "cell_type": "code",
   "execution_count": null,
   "metadata": {},
   "outputs": [],
   "source": [
    "### imports\n",
    "import pickle"
   ]
  },
  {
   "cell_type": "code",
   "execution_count": null,
   "metadata": {},
   "outputs": [],
   "source": [
    "### saving trained algorithm\n",
    "pickle.dump(obj=classifier_best, file=open(file=\"algo-heart-disease.pkl\", mode=\"wb\"))"
   ]
  },
  {
   "cell_type": "code",
   "execution_count": null,
   "metadata": {},
   "outputs": [],
   "source": [
    "### loading and using trained algorithm\n",
    "classifier_pickle = pickle.load(file=open(file=\"algo-heart-disease.pkl\", mode=\"rb\"))\n",
    "pickle_metrics = evaluateAlgo(classifier_pickle, features, target)"
   ]
  },
  {
   "cell_type": "markdown",
   "metadata": {},
   "source": [
    "#### Saving and loading the algorithm with joblib"
   ]
  },
  {
   "cell_type": "code",
   "execution_count": null,
   "metadata": {},
   "outputs": [],
   "source": [
    "### imports\n",
    "import joblib"
   ]
  },
  {
   "cell_type": "code",
   "execution_count": null,
   "metadata": {},
   "outputs": [],
   "source": [
    "### saving trained algorithm\n",
    "joblib.dump(value=classifier_best, filename=\"algo-heart-disease.joblib\");"
   ]
  },
  {
   "cell_type": "code",
   "execution_count": null,
   "metadata": {},
   "outputs": [],
   "source": [
    "### loading and using trained algorithm\n",
    "classifier_joblib = joblib.load(filename=\"algo-heart-disease.joblib\")\n",
    "joblib_metrics = evaluateAlgo(classifier_joblib, features, target)"
   ]
  }
 ],
 "metadata": {
  "kernelspec": {
   "display_name": "Python 3.8.10 ('Ztm_Code': venv)",
   "language": "python",
   "name": "python3"
  },
  "language_info": {
   "codemirror_mode": {
    "name": "ipython",
    "version": 3
   },
   "file_extension": ".py",
   "mimetype": "text/x-python",
   "name": "python",
   "nbconvert_exporter": "python",
   "pygments_lexer": "ipython3",
   "version": "3.8.10"
  },
  "orig_nbformat": 4,
  "vscode": {
   "interpreter": {
    "hash": "6d135630f3aba14e844087208813e69ab65195afd4ab5238b4ebe56330592421"
   }
  }
 },
 "nbformat": 4,
 "nbformat_minor": 2
}
