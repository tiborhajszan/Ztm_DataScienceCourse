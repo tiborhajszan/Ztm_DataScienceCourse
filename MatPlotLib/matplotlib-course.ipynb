{
 "cells": [
  {
   "cell_type": "code",
   "execution_count": null,
   "metadata": {},
   "outputs": [],
   "source": [
    "### imports\n",
    "import numpy, pandas\n",
    "from matplotlib import pyplot\n",
    "### displaying matplotlib figures within notebook\n",
    "%matplotlib inline"
   ]
  },
  {
   "cell_type": "markdown",
   "metadata": {},
   "source": [
    "## Two Ways of Plotting (x)"
   ]
  },
  {
   "cell_type": "markdown",
   "metadata": {},
   "source": [
    "#### Stateless plotting (x)"
   ]
  },
  {
   "cell_type": "code",
   "execution_count": null,
   "metadata": {},
   "outputs": [],
   "source": [
    "### stateless blank plot\n",
    "pyplot.plot()\n",
    "### displaying plot without matplotlib messages\n",
    "pyplot.show()"
   ]
  },
  {
   "cell_type": "markdown",
   "metadata": {},
   "source": [
    "<span style=\"color:navajowhite\">\n",
    "--- matplotlib syntax<br>\n",
    "semicolon (;) after last plot code line substitutes pyplot.show()\n",
    "</span>"
   ]
  },
  {
   "cell_type": "code",
   "execution_count": null,
   "metadata": {},
   "outputs": [],
   "source": [
    "### stateless line plot, [1,2,3,4] (y-axis) only\n",
    "pyplot.plot([1,2,3,4]);"
   ]
  },
  {
   "cell_type": "code",
   "execution_count": null,
   "metadata": {},
   "outputs": [],
   "source": [
    "### stateless line plot, [11,22,33,44] (y-axis) over [1,2,3,4] (x-axis)\n",
    "pyplot.plot([1,2,3,4], [11,22,33,44]);"
   ]
  },
  {
   "cell_type": "markdown",
   "metadata": {},
   "source": [
    "#### Object oriented plotting (x)"
   ]
  },
  {
   "cell_type": "markdown",
   "metadata": {},
   "source": [
    "<span style=\"color:navajowhite\">\n",
    "--- matplotlib concept<br>\n",
    "figure object represents entire figure with all subplots<br>\n",
    "axis object(s) represent(s) subplot(s)\n",
    "</span>"
   ]
  },
  {
   "cell_type": "code",
   "execution_count": null,
   "metadata": {},
   "outputs": [],
   "source": [
    "### object oriented figure (figure), one subplot (axis)\n",
    "figure, axis = pyplot.subplots()\n",
    "### \"axis\" subplot, line plot, [11,22,33,44] (y-axis) over [1,2,3,4] (x-axis)\n",
    "axis.plot([1,2,3,4], [11,22,33,44]);"
   ]
  },
  {
   "cell_type": "markdown",
   "metadata": {},
   "source": [
    "## Matplotlib Workflow (x)"
   ]
  },
  {
   "cell_type": "markdown",
   "metadata": {},
   "source": [
    "<span style=\"color:navajowhite\">\n",
    "--- matplotlib workflow steps<br>\n",
    "preparing data<br>\n",
    "creating figure<br>\n",
    "plotting data<br>\n",
    "customizing plot<br>\n",
    "saving figure<br>\n",
    "</span>"
   ]
  },
  {
   "cell_type": "code",
   "execution_count": null,
   "metadata": {},
   "outputs": [],
   "source": [
    "### preparing data\n",
    "ydata = [11,22,33,44]\n",
    "xdata = [1,2,3,4]\n",
    "\n",
    "### object oriented figure (figure), one subplot (axis), with=5in x height=5in (figsize)\n",
    "figure, axis = pyplot.subplots(figsize=(5,5))\n",
    "\n",
    "### \"axis\" subplot, line plot, ydata (y-axis) over xdata (x-axis)\n",
    "axis.plot(xdata, ydata)\n",
    "\n",
    "### \"axis\" subplot, setting labels, subplot title (title), y-axis legend (ylabel), x-axis legend (xlabel)\n",
    "axis.set(title = \"Sample Plot\", ylabel = \"y-axis\", xlabel = \"x-axis\")\n",
    "\n",
    "### saving figure\n",
    "figure.savefig(\"plot-sample.png\")"
   ]
  },
  {
   "cell_type": "markdown",
   "metadata": {},
   "source": [
    "<span style=\"color:navajowhite\">\n",
    "--- matplotlib syntax<br>\n",
    "figure.savefig() also substitutes pyplot.show()\n",
    "</span>"
   ]
  },
  {
   "cell_type": "markdown",
   "metadata": {},
   "source": [
    "## Plotting from NumPy / Plot Types (x)"
   ]
  },
  {
   "cell_type": "markdown",
   "metadata": {},
   "source": [
    "#### Line plots (x)"
   ]
  },
  {
   "cell_type": "code",
   "execution_count": null,
   "metadata": {},
   "outputs": [],
   "source": [
    "### numpy linear array (linspace_array), begins at 0 (start), ends at 10 (stop), contains 100 numbers (num)\n",
    "linspace_array = numpy.linspace(start=0, stop=10, num=100)\n",
    "### object oriented figure (figure), one subplot (axis)\n",
    "figure, axis = pyplot.subplots()\n",
    "### \"axis\" subplot, line plot, linspace_array squared (y-axis) over linspace_array (x-axis)\n",
    "axis.plot(linspace_array, linspace_array**2);"
   ]
  },
  {
   "cell_type": "markdown",
   "metadata": {},
   "source": [
    "#### Scatter plots (x)"
   ]
  },
  {
   "cell_type": "code",
   "execution_count": null,
   "metadata": {},
   "outputs": [],
   "source": [
    "### numpy linear array (linspace_array), begins at 0 (start), ends at 10 (stop), contains 100 numbers (num)\n",
    "linspace_array = numpy.linspace(start=0, stop=10, num=100)\n",
    "### object oriented figure (figure), one subplot (axis)\n",
    "figure, axis = pyplot.subplots()\n",
    "### \"axis\" subplot, scatter plot, sine of linspace_array (y) over linspace_array (x)\n",
    "axis.scatter(y=numpy.sin(linspace_array), x=linspace_array);"
   ]
  },
  {
   "cell_type": "markdown",
   "metadata": {},
   "source": [
    "#### Histogram plots (x)"
   ]
  },
  {
   "cell_type": "markdown",
   "metadata": {},
   "source": [
    "<span style=\"color:navajowhite\">\n",
    "--- histogram concept<br>\n",
    "histogram plot displays probability distribution of dataset<br>\n",
    "dataset entire span (min value - max value) is divided into equally sized ranges (bins)<br>\n",
    "heights of histogram columns represent number of values within each bin\n",
    "</span>"
   ]
  },
  {
   "cell_type": "code",
   "execution_count": null,
   "metadata": {},
   "outputs": [],
   "source": [
    "### numpy normally distributed random array (randn_array), contains 1000 numbers\n",
    "randn_array = numpy.random.randn(1000)\n",
    "### object oriented figure (figure), one subplot (axis)\n",
    "figure, axis = pyplot.subplots()\n",
    "### \"axis\" subplot, histogram plot, number of occurrences (y-axis) over randn_array bins (x)\n",
    "axis.hist(x=randn_array);"
   ]
  },
  {
   "cell_type": "markdown",
   "metadata": {},
   "source": [
    "#### Bar plots (x)"
   ]
  },
  {
   "cell_type": "code",
   "execution_count": null,
   "metadata": {},
   "outputs": [],
   "source": [
    "### dictionary data\n",
    "butter_prices = {\n",
    "    \"Almond Butter\": 10,\n",
    "    \"Peanut Butter\": 8,\n",
    "    \"Cashew Butter\": 12}\n",
    "butter_prices"
   ]
  },
  {
   "cell_type": "code",
   "execution_count": null,
   "metadata": {},
   "outputs": [],
   "source": [
    "### object oriented figure (figure), one subplot (axis)\n",
    "figure, axis = pyplot.subplots()\n",
    "### \"axis\" subplot, vertical bar plot, dictionary values (height) over list of dictionary keys (x)\n",
    "axis.bar(height=butter_prices.values(), x=list(butter_prices.keys()))\n",
    "### \"axis\" subplot, setting labels, subplot title (title), y-axis legend (ylabel)\n",
    "axis.set(title=\"Dan's Nut Butter Store\", ylabel=\"Price ($)\");"
   ]
  },
  {
   "cell_type": "code",
   "execution_count": null,
   "metadata": {},
   "outputs": [],
   "source": [
    "### object oriented figure (figure), one subplot (axis)\n",
    "figure, axis = pyplot.subplots()\n",
    "### \"axis\" subplot, horizontal bar plot, dictionary values (width) over list of dictionary keys (y)\n",
    "axis.barh(width=butter_prices.values(), y=list(butter_prices.keys()))\n",
    "### \"axis\" subplot, setting labels, subplot title (title), x-axis legend (xlabel)\n",
    "axis.set(title=\"Dan's Nut Butter Store\", xlabel=\"Price ($)\");"
   ]
  },
  {
   "cell_type": "markdown",
   "metadata": {},
   "source": [
    "#### Subplots (x)"
   ]
  },
  {
   "cell_type": "code",
   "execution_count": null,
   "metadata": {},
   "outputs": [],
   "source": [
    "### object oriented figure (figure), four subplots (axis)\n",
    "### row1col1 (axis11), row1col2 (axis12), row2col1 (axis21), row2col2 (axis22)\n",
    "### two grid rows (nrows), two grid columns (ncols), width=10in x height=5in (figsize)\n",
    "figure, ((axis11, axis12), (axis21, axis22)) = pyplot.subplots(nrows=2, ncols=2, figsize=(10,5))\n",
    "\n",
    "### \"axis11\" subplot, line plot, linspace_array squared (y-axis) over linspace_array (x-axis)\n",
    "axis11.plot(linspace_array, linspace_array**2)\n",
    "\n",
    "### \"axis12\" subplot, scatter plot, numpy random array (y) over numpy random array (x)\n",
    "### numpy random array (rand), contains 10 numbers\n",
    "axis12.scatter(y=numpy.random.rand(10), x=numpy.random.rand(10))\n",
    "\n",
    "### \"axis21\" subplot, histogram plot, number of occurrences (y-axis) over randn_array bins (x)\n",
    "axis21.hist(x=randn_array)\n",
    "\n",
    "### \"axis22\" subplot, vertical bar plot, dictionary values (height) over list of dictionary keys (x)\n",
    "axis22.bar(height=butter_prices.values(), x=list(butter_prices.keys()));"
   ]
  },
  {
   "cell_type": "code",
   "execution_count": null,
   "metadata": {},
   "outputs": [],
   "source": [
    "### subplot option 2\n",
    "figure, axes = pyplot.subplots(nrows=2, ncols=2, figsize=(10,5))\n",
    "axes[0, 0].plot(linspace_array, linspace_array**2)\n",
    "axes[0, 1].scatter(y=numpy.random.rand(10), x=numpy.random.rand(10))\n",
    "axes[1, 0].hist(x=randn_array)\n",
    "axes[1, 1].bar(height=butter_prices.values(), x=list(butter_prices.keys()));"
   ]
  },
  {
   "cell_type": "markdown",
   "metadata": {},
   "source": [
    "## Plotting from Pandas (x)"
   ]
  },
  {
   "cell_type": "markdown",
   "metadata": {},
   "source": [
    "#### Plotting from random series (x)"
   ]
  },
  {
   "cell_type": "code",
   "execution_count": null,
   "metadata": {},
   "outputs": [],
   "source": [
    "### numpy normally distributed random array (randn_array), contains 1000 numbers\n",
    "randn_array = numpy.random.randn(1000)\n",
    "### pandas datetime index (date_index), contains series of dates (date_range)\n",
    "### begins at 1/1/2020 (start), contains 1000 dates (periods)\n",
    "date_index = pandas.date_range(start=\"1/1/2020\", periods=1000)\n",
    "### pandas series, contains randn_array numbers (data), indexed by date_index (index)\n",
    "randn_series = pandas.Series(data=randn_array, index=date_index)\n",
    "### pandas series, contains cumulative summation of randn_series (cumsum)\n",
    "cumsum_series = randn_series.cumsum()\n",
    "### pandas stateless line plot, cumsum series data (y-axis) over cumsum series index (x-axis)\n",
    "cumsum_series.plot();"
   ]
  },
  {
   "cell_type": "markdown",
   "metadata": {},
   "source": [
    "#### Plotting from car sales dataframe (x)"
   ]
  },
  {
   "cell_type": "code",
   "execution_count": null,
   "metadata": {},
   "outputs": [],
   "source": [
    "### pandas dataframe (carsales_df), reading data from csv file\n",
    "carsales_df = pandas.read_csv(\"data-car-sales.csv\")\n",
    "carsales_df"
   ]
  },
  {
   "cell_type": "code",
   "execution_count": null,
   "metadata": {},
   "outputs": [],
   "source": [
    "### carsales_df dataframe, \"Price\" column, removing non-numeric characters using regex\n",
    "carsales_df[\"Price\"] = carsales_df[\"Price\"].str.replace(\"[\\$\\,\\.]\", \"\", regex=True)\n",
    "### carsales_df dataframe, \"Price\" column, removing decimal characters\n",
    "carsales_df[\"Price\"] = carsales_df[\"Price\"].str[:-2]\n",
    "### carsales_df dataframe, \"Price\" column, converting datatype str > int\n",
    "carsales_df[\"Price\"] = carsales_df[\"Price\"].astype(int)\n",
    "carsales_df"
   ]
  },
  {
   "cell_type": "code",
   "execution_count": null,
   "metadata": {},
   "outputs": [],
   "source": [
    "### pandas datetime index (date_index), contains series of dates (date_range)\n",
    "### begins at 1/1/2020 (start), contains 10 dates (periods)\n",
    "date_index = pandas.date_range(start=\"1/1/2020\", periods=10)\n",
    "### carsales_df dataframe, creating \"Sale Date\" colum, contains date_index\n",
    "carsales_df[\"Sale Date\"] = date_index\n",
    "carsales_df"
   ]
  },
  {
   "cell_type": "code",
   "execution_count": null,
   "metadata": {},
   "outputs": [],
   "source": [
    "### carsales_df dataframe, creating \"Total Sales\" column, contains cumulative summation of \"Price\" column\n",
    "carsales_df[\"Total Sales\"] = carsales_df[\"Price\"].cumsum()\n",
    "carsales_df"
   ]
  },
  {
   "cell_type": "code",
   "execution_count": null,
   "metadata": {},
   "outputs": [],
   "source": [
    "### pandas stateless line plot, \"Total Sales\" column (y) over \"Sale Date\" column (x)\n",
    "carsales_df.plot(y=\"Total Sales\", x=\"Sale Date\");"
   ]
  },
  {
   "cell_type": "code",
   "execution_count": null,
   "metadata": {},
   "outputs": [],
   "source": [
    "### pandas stateless scatter plot, \"Price\" column (y) over \"Odometer (KM)\" column\" (x)\n",
    "carsales_df.plot.scatter(y=\"Price\", x=\"Odometer (KM)\");"
   ]
  },
  {
   "cell_type": "code",
   "execution_count": null,
   "metadata": {},
   "outputs": [],
   "source": [
    "### pandas stateless vertical bar plot, \"Odometer\" column (y) over \"Make\" column (x)\n",
    "carsales_df.plot.bar(y=\"Odometer (KM)\", x=\"Make\");"
   ]
  },
  {
   "cell_type": "code",
   "execution_count": null,
   "metadata": {},
   "outputs": [],
   "source": [
    "### pandas stateless histogram plot\n",
    "### number of occurrances (y-axis) over \"Odometer (KM)\" column bins, ten histogram columns (bins)\n",
    "carsales_df[\"Odometer (KM)\"].plot.hist(bins=10);"
   ]
  },
  {
   "cell_type": "markdown",
   "metadata": {},
   "source": [
    "#### Plotting from heart disease dataframe - Stateless (x)"
   ]
  },
  {
   "cell_type": "markdown",
   "metadata": {},
   "source": [
    "<span style=\"color:navajowhite\">\n",
    "--- statistics concept<br>\n",
    "an outlier is at least 3 standard deviations away from mean\n",
    "</span>"
   ]
  },
  {
   "cell_type": "code",
   "execution_count": null,
   "metadata": {},
   "outputs": [],
   "source": [
    "### pandas dataframe (heart_disease), reading data from csv file\n",
    "heart_disease = pandas.read_csv(\"data-heart-disease.csv\")\n",
    "heart_disease"
   ]
  },
  {
   "cell_type": "code",
   "execution_count": null,
   "metadata": {},
   "outputs": [],
   "source": [
    "### pandas stateless histogram plot\n",
    "### number of occurrances (y-axis) over \"age\" column bins, ten histogram columns (bins)\n",
    "heart_disease[\"age\"].plot.hist(bins=10);"
   ]
  },
  {
   "cell_type": "code",
   "execution_count": null,
   "metadata": {},
   "outputs": [],
   "source": [
    "### pandas stateless figure, 14 histogram subplots (subplots=True)\n",
    "### number of occurrances (y-axis) over each column bins, width=10in x height=15in (figsize)\n",
    "heart_disease.plot.hist(subplots=True, figsize=(10,15));"
   ]
  },
  {
   "cell_type": "markdown",
   "metadata": {},
   "source": [
    "#### Plotting from heart disease dataframe - Object oriented (x)"
   ]
  },
  {
   "cell_type": "markdown",
   "metadata": {},
   "source": [
    "<span style=\"color:navajowhite\">\n",
    "--- matplotlib concept<br>\n",
    "object oriented plotting should be used for more advanced figures\n",
    "</span>"
   ]
  },
  {
   "cell_type": "code",
   "execution_count": null,
   "metadata": {},
   "outputs": [],
   "source": [
    "### pandas dataframe (over_fifty), contains rows of heart_disease dataframe wherein 50 < \"age\" column value\n",
    "over_fifty = heart_disease.loc[50 < heart_disease[\"age\"]]\n",
    "### pandas stateless scatter plot, \"chol\" column (y) over \"age\" column (x), categories by \"target\" column (c)\n",
    "over_fifty.plot.scatter(y=\"chol\", x=\"age\", c=\"target\");"
   ]
  },
  {
   "cell_type": "code",
   "execution_count": null,
   "metadata": {},
   "outputs": [],
   "source": [
    "### object oriented figure (figure), one subplot (axis), width=10in x height=6in (figsize)\n",
    "figure, axis = pyplot.subplots(figsize=(10,6))\n",
    "\n",
    "### pyplot plot object (chol_age), contains \"axis\" subplot\n",
    "### scatter plot, \"chol\" column (y) over \"age\" column (x), categories by \"target\" column (c)\n",
    "chol_age = axis.scatter(y=over_fifty[\"chol\"], x=over_fifty[\"age\"], c=over_fifty[\"target\"])\n",
    "### \"axis\" subplot, horizontal line (axhline) at mean of \"chol\" column (y), dashed line (linestyle)\n",
    "axis.axhline(y=over_fifty[\"chol\"].mean(), linestyle=\"--\")\n",
    "\n",
    "### \"axis\" subplot, setting x-axis range (set_xlim)\n",
    "axis.set_xlim([45,85])\n",
    "\n",
    "### \"axis\" subplot, setting labels, subplot title (title), y-axis legend (ylabel), x-axis legend (xlabel)\n",
    "axis.set(title=\"Cholesterol and Heart Disease\", ylabel=\"Cholesterol\", xlabel=\"Age\")\n",
    "### \"axis\" subplot, category legend\n",
    "### categories (legend_elements) taken from plot object (*chol_age), setting legend title (title)\n",
    "axis.legend(*chol_age.legend_elements(), title=\"Target\");"
   ]
  },
  {
   "cell_type": "markdown",
   "metadata": {},
   "source": [
    "#### Plotting from heart disease dataframe - Subplots (x)"
   ]
  },
  {
   "cell_type": "code",
   "execution_count": null,
   "metadata": {},
   "outputs": [],
   "source": [
    "### object oriented figure (figure), two subplots (axis), row1col1 (axis11), row2col1 (axis21)\n",
    "### two grid rows (nrows), one grid columns (ncols), shared x-axis (sharex), width=10in x height=10in (figsize)\n",
    "figure, (axis11, axis21) = pyplot.subplots(nrows=2, ncols=1, sharex=True, figsize=(10,10))\n",
    "\n",
    "### pyplot plot object (chol_age), contains axis11 subplot\n",
    "### scatter plot, over_fifty/chol (y) over over_fifty/age (x), categories by over_fifty/target (c)\n",
    "chol_age = axis11.scatter(y=over_fifty[\"chol\"], x=over_fifty[\"age\"], c=over_fifty[\"target\"])\n",
    "### axis11 subplot, horizontal line (axhline) at mean of over_fifty/chol (y), dashed line (linestyle)\n",
    "axis11.axhline(y=over_fifty[\"chol\"].mean(), linestyle=\"--\")\n",
    "### pyplot plot object (thalach_age), contains axis21 subplot\n",
    "### scatter plot, over_fifty/thalach (y) over over_fifty/age (x), categories by over_fifty/target (c)\n",
    "thalach_age = axis21.scatter(y=over_fifty[\"thalach\"], x=over_fifty[\"age\"], c=over_fifty[\"target\"])\n",
    "### axis21 subplot, horizontal line (axhline) at mean of over_fifty/thalach (y), dashed line (linestyle)\n",
    "axis21.axhline(y=over_fifty[\"thalach\"].mean(), linestyle=\"--\")\n",
    "\n",
    "### all subplots, setting x-axis range (set-xlim)\n",
    "axis21.set_xlim([45,85])\n",
    "\n",
    "### figure title (suptitle) text (t) and typography (fontsize, fontweight)\n",
    "figure.suptitle(t=\"Heart Disease Analysis\", fontsize=16, fontweight=\"bold\")\n",
    "### axis11 subplot, category legend\n",
    "### categories (legend_elements) taken from plot object (*chol_age), setting legend title (title)\n",
    "axis11.legend(*chol_age.legend_elements(), title=\"Target\")\n",
    "### axis11 subplot, setting labels, subplot title (title), y-axis legend (ylabel)\n",
    "axis11.set(title=\"Cholesterol and Heart Disease\", ylabel=\"Cholesterol\")\n",
    "### axis21 subplot, category legend\n",
    "### categories (legend_elements) taken from plot object (*thalach_age), setting legend title (title)\n",
    "axis21.legend(*thalach_age.legend_elements(), title=\"Target\");\n",
    "### axis21 subplot, setting labels, subplot title (title), y-axis legend (ylabel), x-axis legend (xlabel)\n",
    "axis21.set(title=\"Max Heart Rate and Heart Disease\", ylabel=\"Max Heart Rate\", xlabel=\"Age\")"
   ]
  },
  {
   "cell_type": "markdown",
   "metadata": {},
   "source": [
    "## Customizing Plots / Styles / Colormaps (x)"
   ]
  },
  {
   "cell_type": "markdown",
   "metadata": {},
   "source": [
    "#### Applying style (x)"
   ]
  },
  {
   "cell_type": "markdown",
   "metadata": {},
   "source": [
    "<span style=\"color:navajowhite\">\n",
    "--- matplotlib styles<br>\n",
    "predefined styling elements used for defining appearance of entire plots<br>\n",
    "see <a href=https://matplotlib.org/stable/gallery/style_sheets/style_sheets_reference.html>matplotlib styles</a>\n",
    "</span>"
   ]
  },
  {
   "cell_type": "code",
   "execution_count": null,
   "metadata": {},
   "outputs": [],
   "source": [
    "### styles available in matplotlib library\n",
    "pyplot.style.available"
   ]
  },
  {
   "cell_type": "code",
   "execution_count": null,
   "metadata": {},
   "outputs": [],
   "source": [
    "### numpy normally distributed random matrix (plot_array), 10 rows, 4 columns\n",
    "plot_array = numpy.random.randn(10, 4)\n",
    "### pandas dataframe (plot_df), contains plot_array (data), setting column names (columns)\n",
    "plot_df = pandas.DataFrame(data=plot_array, columns=[\"a\",\"b\",\"c\",\"d\"])\n",
    "\n",
    "### changing plot style\n",
    "pyplot.style.use(\"ggplot\")\n",
    "\n",
    "### pandas stateless bar plot, plot_df/values (y-axis) over plot_df/index (x-axis), categories by plot_df/columns\n",
    "axis = plot_df.plot.bar()\n",
    "\n",
    "### toggling plot category legend (set_visible)\n",
    "axis.legend().set_visible(True)\n",
    "\n",
    "### setting labels, plot title (title), y-axis legend (ylabel), x-axis legend (xlabel)\n",
    "axis.set(title=\"Random Number Bar Graph\", ylabel=\"Random Number\", xlabel=\"Index\");"
   ]
  },
  {
   "cell_type": "markdown",
   "metadata": {},
   "source": [
    "#### Applying colormap (>>>)"
   ]
  },
  {
   "cell_type": "markdown",
   "metadata": {},
   "source": [
    "<span style=\"color:navajowhite\">\n",
    "--- matplotlib colormaps<br>\n",
    "predefined color schemes used for coloring various plot elements<br>\n",
    "see <a href=https://matplotlib.org/stable/tutorials/colors/colormaps.html>matplotlib colormap documentation</a>\n",
    "</span>"
   ]
  },
  {
   "cell_type": "code",
   "execution_count": null,
   "metadata": {},
   "outputs": [],
   "source": [
    "### preparing data -----------------------------------------------------------------------------------------------------\n",
    "\n",
    "### pandas dataframe (heart_disease), reading data from csv file\n",
    "heart_disease = pandas.read_csv(\"data-heart-disease.csv\")\n",
    "### pandas dataframe (over_fifty), contains heart_disease dataframe on condition 50 < heart_disease/age value\n",
    "over_fifty = heart_disease.loc[50 < heart_disease[\"age\"]]\n",
    "\n",
    "### creating figure ----------------------------------------------------------------------------------------------------\n",
    "\n",
    "### object oriented figure (figure), 2 subplots, row1col1 (axis11), row2col1 (axis21)\n",
    "### 2 grid rows (nrows), 1 grid columns (ncols), shared x-axis (sharex), width=10in x height=10in (figsize)\n",
    "figure, (axis11, axis21) = pyplot.subplots(nrows=2, ncols=1, sharex=True, figsize=(10,10))\n",
    "\n",
    "### plotting -----------------------------------------------------------------------------------------------------------\n",
    "\n",
    "### pyplot plot object (chol_age), contains axis11 subplot, scatter plot\n",
    "### over_fifty/chol (y) over over_fifty/age (x), categories by over_fifty/target (c), color map summer (cmap)\n",
    "chol_age = axis11.scatter(y=over_fifty[\"chol\"], x=over_fifty[\"age\"], c=over_fifty[\"target\"], cmap=\"summer\")\n",
    "### axis11 subplot, horizontal line (axhline) at mean of over_fifty/chol (y), dashed line (linestyle)\n",
    "axis11.axhline(y=over_fifty[\"chol\"].mean(), linestyle=\"--\")\n",
    "\n",
    "### pyplot plot object (thalach_age), contains axis21 subplot, scatter plot\n",
    "### over_fifty/thalach (y) over over_fifty/age (x), categories by over_fifty/target (c), color map winter (cmap)\n",
    "thalach_age = axis21.scatter(y=over_fifty[\"thalach\"], x=over_fifty[\"age\"], c=over_fifty[\"target\"], cmap=\"winter\")\n",
    "### axis21 subplot, horizontal line (axhline) at mean of over_fifty/thalach (y), dashed line (linestyle)\n",
    "axis21.axhline(y=over_fifty[\"thalach\"].mean(), linestyle=\"--\")\n",
    "\n",
    "### changing plot style\n",
    "pyplot.style.use(\"seaborn-whitegrid\")\n",
    "\n",
    "### x-axis range 50-85\n",
    "axis1.set_xlim([50,85])\n",
    "### axis2 y-axis range 60-200\n",
    "axis2.set_ylim([60,200])\n",
    "\n",
    "### figure title text and typography\n",
    "figure.suptitle(t=\"Heart Disease Analysis\", fontsize=16, fontweight=\"bold\")\n",
    "### axis1 title, y-axis legend (ylabel)\n",
    "axis1.set(title=\"Cholesterol and Heart Disease\", ylabel=\"Cholesterol\")\n",
    "### axis1 category legend, legend title\n",
    "axis1.legend(*chol_age.legend_elements(), title=\"Target\")\n",
    "### axis2 title, y-axis legend (ylabel), x-axis legend (xlabel)\n",
    "axis2.set(title=\"Max Heart Rate and Heart Disease\", ylabel=\"Max Heart Rate\", xlabel=\"Age\")\n",
    "### axis2 category legend, legend title\n",
    "axis2.legend(*thalach_age.legend_elements(), title=\"Target\")\n",
    "\n",
    "### saving and showing figure\n",
    "figure.savefig(\"heart-disease-analysis.png\")"
   ]
  }
 ],
 "metadata": {
  "kernelspec": {
   "display_name": "Python 3.8.10 ('Ztm_Code': venv)",
   "language": "python",
   "name": "python3"
  },
  "language_info": {
   "codemirror_mode": {
    "name": "ipython",
    "version": 3
   },
   "file_extension": ".py",
   "mimetype": "text/x-python",
   "name": "python",
   "nbconvert_exporter": "python",
   "pygments_lexer": "ipython3",
   "version": "3.8.10"
  },
  "orig_nbformat": 4,
  "vscode": {
   "interpreter": {
    "hash": "6d135630f3aba14e844087208813e69ab65195afd4ab5238b4ebe56330592421"
   }
  }
 },
 "nbformat": 4,
 "nbformat_minor": 2
}
