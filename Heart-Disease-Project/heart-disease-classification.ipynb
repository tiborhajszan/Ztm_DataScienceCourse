{
 "cells": [
  {
   "cell_type": "markdown",
   "metadata": {},
   "source": [
    "## Predicting Heart Disease Using Machine Learning"
   ]
  },
  {
   "cell_type": "markdown",
   "metadata": {},
   "source": [
    "We attempt to create a machine learning model that detects heart disease based on the medical records of patients.  \n",
    "This notebook uses various Python libraries for data science and machine learning."
   ]
  },
  {
   "cell_type": "markdown",
   "metadata": {},
   "source": [
    "## Approach"
   ]
  },
  {
   "cell_type": "markdown",
   "metadata": {},
   "source": [
    "1. Problem definition  \n",
    "2. Data  \n",
    "3. Evaluation  \n",
    "4. Features  \n",
    "5. Modeling  \n",
    "6. Experimentation"
   ]
  },
  {
   "cell_type": "markdown",
   "metadata": {},
   "source": [
    "## Problem definition"
   ]
  },
  {
   "cell_type": "markdown",
   "metadata": {},
   "source": [
    "Given certain clinical records of a patient, is it possible to detect the presence of heart disease?  \n",
    "The machine learning problem is **supervised learning / binary classification**."
   ]
  },
  {
   "cell_type": "markdown",
   "metadata": {},
   "source": [
    "## Data"
   ]
  },
  {
   "cell_type": "markdown",
   "metadata": {},
   "source": [
    "The data we use is the Cleveland Heart Disease Dataset, which is publicly available:  \n",
    "[UCI Machine Learning Repository](https://archive.ics.uci.edu/dataset/45/heart+disease)  \n",
    "[Kaggle](https://www.kaggle.com/datasets/redwankarimsony/heart-disease-data)"
   ]
  },
  {
   "cell_type": "markdown",
   "metadata": {},
   "source": [
    "## Evaluation"
   ]
  },
  {
   "cell_type": "markdown",
   "metadata": {},
   "source": [
    "We are trying to achieve 95% accuracy with the proof of concept model to pursue the project further."
   ]
  },
  {
   "cell_type": "markdown",
   "metadata": {},
   "source": [
    "## Features"
   ]
  },
  {
   "cell_type": "markdown",
   "metadata": {},
   "source": [
    "**Data Dictionary (information about each data feature)**  \n",
    "* id (unique id for each patient)  \n",
    "* age (age of patient in years)  \n",
    "* origin (place of study)  \n",
    "* sex (male / female)  \n",
    "* cp (chest pain type: typical angina, atypical angina, non-anginal, asymptomatic)  \n",
    "* trestbps (resting blood pressure in mmHg on admission to hospital)  \n",
    "* chol (serum cholesterol in mg/dl)  \n",
    "* fbs (whether fasting blood sugar > 120 mg/dl)  \n",
    "* restecg (resting electrocardiographic results: normal, ST/T abnormality, left ventricular hypertrophy)  \n",
    "* thalach (maximum heart rate achieved)  \n",
    "* exang (exercise-induced angina: True / False)  \n",
    "* oldpeak (ST segment depression induced by exercise relative to resting)  \n",
    "* slope (slope of the peak exercise ST segment)  \n",
    "* ca (number of major vessels (0-3) colored by fluoroscopy)  \n",
    "* thal (normal, fixed defect, reversible defect)  \n",
    "* num (the predicted attribute)"
   ]
  }
 ],
 "metadata": {
  "language_info": {
   "name": "python"
  }
 },
 "nbformat": 4,
 "nbformat_minor": 2
}
