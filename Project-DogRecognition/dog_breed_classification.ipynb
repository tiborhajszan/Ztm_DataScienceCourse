{
  "nbformat": 4,
  "nbformat_minor": 0,
  "metadata": {
    "colab": {
      "provenance": [],
      "gpuType": "T4",
      "toc_visible": true
    },
    "kernelspec": {
      "name": "python3",
      "display_name": "Python 3"
    },
    "language_info": {
      "name": "python"
    },
    "accelerator": "GPU"
  },
  "cells": [
    {
      "cell_type": "markdown",
      "source": [
        "# Dog Breed Recognition Project"
      ],
      "metadata": {
        "id": "in9S_YUyBC-t"
      }
    },
    {
      "cell_type": "markdown",
      "source": [
        "## 1. Problem"
      ],
      "metadata": {
        "id": "8oZfaZ_xBf0f"
      }
    },
    {
      "cell_type": "markdown",
      "source": [
        "Our goal is to identify dog breed from a photo of the dog.  \n",
        "The machine learning problem is **supervised learning > multiclass classification**.  \n",
        "Our task is to build a neural network image classifier using TensorFlow and TensorFlow Hub."
      ],
      "metadata": {
        "id": "bYcVYrJYCNKn"
      }
    },
    {
      "cell_type": "markdown",
      "source": [
        "## 2. Evaluation"
      ],
      "metadata": {
        "id": "fzDR79sXBi51"
      }
    },
    {
      "cell_type": "markdown",
      "source": [
        "The evaluation metric set for the competition is Multiclass Log Loss.  \n",
        "Our target matrix contains N Dogs x M Breeds, true breed = 1, rest = 0.  \n",
        "Our model predicts a probability matrix with the same structure.  \n",
        "Multiclass Log Loss measures the error of model predictions (the lower the better).  \n",
        "Muticlass Log Loss is applied in image classification, natural language processing, and recommendation systems."
      ],
      "metadata": {
        "id": "fDhitkMhGtRO"
      }
    },
    {
      "cell_type": "markdown",
      "source": [
        "## 3. Data"
      ],
      "metadata": {
        "id": "5jAW9IvXBrec"
      }
    },
    {
      "cell_type": "markdown",
      "source": [
        "Data is acquired from [Kaggle Dog Breed Identification Competition](https://www.kaggle.com/c/dog-breed-identification/data)."
      ],
      "metadata": {
        "id": "pxafFCqUDZg2"
      }
    },
    {
      "cell_type": "markdown",
      "source": [
        "## 4. Features"
      ],
      "metadata": {
        "id": "3p5Qyin9BuSG"
      }
    },
    {
      "cell_type": "markdown",
      "source": [
        "#### Data Dictionary"
      ],
      "metadata": {
        "id": "t3mS-rj16OU2"
      }
    },
    {
      "cell_type": "markdown",
      "source": [
        "* Our model analyzes images (unstructured data) > deep learning / transfer learning.\n",
        "* There are 120 dog breeds in the training set > multiclass classification with 120 classes.\n",
        "* There are 10 222 images in the training set.\n",
        "* There are 10 357 images in the test set."
      ],
      "metadata": {
        "id": "DnGXzu-CKCie"
      }
    },
    {
      "cell_type": "markdown",
      "source": [
        "#### Importing the Tools"
      ],
      "metadata": {
        "id": "1-7sc5BnNrJe"
      }
    },
    {
      "cell_type": "code",
      "source": [
        "### importing tensorflow\n",
        "import tensorflow\n",
        "print(tensorflow.__version__)\n",
        "\n",
        "### importing tensorflow hub\n",
        "import tensorflow_hub as tfhub\n",
        "print(tfhub.__version__)\n",
        "\n",
        "### checking gpu availability\n",
        "print(tensorflow.config.list_physical_devices())\n",
        "\n",
        "### other imports\n",
        "from pandas import read_csv"
      ],
      "metadata": {
        "id": "F8J6sQlQNuiw"
      },
      "execution_count": null,
      "outputs": []
    },
    {
      "cell_type": "markdown",
      "source": [
        "#### Uploading Data"
      ],
      "metadata": {
        "id": "_0j1UpM7Nele"
      }
    },
    {
      "cell_type": "code",
      "execution_count": null,
      "metadata": {
        "id": "anTh-vJKG55O"
      },
      "outputs": [],
      "source": [
        "### unzipping project data\n",
        "#!unzip \"drive/MyDrive/Colab Data/dog-recognition.zip\" -d \"drive/MyDrive/Colab Data/\""
      ]
    },
    {
      "cell_type": "markdown",
      "source": [
        "#### Exploring Target Variable (Labels)"
      ],
      "metadata": {
        "id": "7cEYIV4w3omE"
      }
    },
    {
      "cell_type": "code",
      "source": [
        "### importing labels\n",
        "target_df = read_csv(filepath_or_buffer=\"drive/MyDrive/Colab Data/labels.csv\")"
      ],
      "metadata": {
        "id": "u48Ajtis9-YI"
      },
      "execution_count": null,
      "outputs": []
    },
    {
      "cell_type": "code",
      "source": [
        "### exploring labels\n",
        "print(target_df.info())\n",
        "print(target_df.describe())\n",
        "target_df.head()"
      ],
      "metadata": {
        "id": "iJqTWZ9p4chr"
      },
      "execution_count": null,
      "outputs": []
    },
    {
      "cell_type": "code",
      "source": [
        "### counting and visualizing instances/breed\n",
        "target_df[\"breed\"].value_counts().plot.bar(figsize=(15,5))"
      ],
      "metadata": {
        "id": "G9jIqj_p69Xj"
      },
      "execution_count": null,
      "outputs": []
    },
    {
      "cell_type": "code",
      "source": [
        "### computing the median of instances/breed\n",
        "target_df[\"breed\"].value_counts().median()"
      ],
      "metadata": {
        "id": "_BJk_mIw8R5v"
      },
      "execution_count": null,
      "outputs": []
    },
    {
      "cell_type": "markdown",
      "source": [
        "Google recommends at least 10 images per class.  \n",
        "We have adequate data with 82 images per class on average."
      ],
      "metadata": {
        "id": "oXyJNET9-Ojj"
      }
    },
    {
      "cell_type": "markdown",
      "source": [
        "## 5. Modeling"
      ],
      "metadata": {
        "id": "pCXN_n-xNbh3"
      }
    },
    {
      "cell_type": "markdown",
      "source": [
        "#### Preparing Data"
      ],
      "metadata": {
        "id": "oqVWPEF_2eyt"
      }
    },
    {
      "cell_type": "markdown",
      "source": [
        "All machine learning algorithms require data in numerical format.  \n",
        "So the first task is to turn training images into tensors.  \n",
        "A tensor is a numerical matrix with n-dimensions, like a numpy ndarray."
      ],
      "metadata": {
        "id": "oXbLq4rs2kLa"
      }
    }
  ]
}