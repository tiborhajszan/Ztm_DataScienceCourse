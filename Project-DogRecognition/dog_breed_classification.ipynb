{
  "nbformat": 4,
  "nbformat_minor": 0,
  "metadata": {
    "colab": {
      "provenance": [],
      "gpuType": "T4",
      "toc_visible": true
    },
    "kernelspec": {
      "name": "python3",
      "display_name": "Python 3"
    },
    "language_info": {
      "name": "python"
    },
    "accelerator": "GPU"
  },
  "cells": [
    {
      "cell_type": "markdown",
      "source": [
        "# Dog Breed Recognition Project"
      ],
      "metadata": {
        "id": "in9S_YUyBC-t"
      }
    },
    {
      "cell_type": "markdown",
      "source": [
        "## 1. Problem"
      ],
      "metadata": {
        "id": "8oZfaZ_xBf0f"
      }
    },
    {
      "cell_type": "markdown",
      "source": [
        "Our goal is to identify dog breed from a photo of the dog.  \n",
        "The machine learning problem is **supervised learning > multiclass classification**.  \n",
        "Our task is to build a neural network image classifier using TensorFlow and TensorFlow Hub."
      ],
      "metadata": {
        "id": "bYcVYrJYCNKn"
      }
    },
    {
      "cell_type": "markdown",
      "source": [
        "## 2. Evaluation"
      ],
      "metadata": {
        "id": "fzDR79sXBi51"
      }
    },
    {
      "cell_type": "markdown",
      "source": [
        "The evaluation metric set for the competition is Multiclass Log Loss.  \n",
        "Our target matrix contains N Dogs x M Breeds, true breed = 1, rest = 0.  \n",
        "Our model predicts a probability matrix with the same structure.  \n",
        "Multiclass Log Loss measures the error of model predictions (the lower the better).  \n",
        "Muticlass Log Loss is applied in image classification, natural language processing, and recommendation systems."
      ],
      "metadata": {
        "id": "fDhitkMhGtRO"
      }
    },
    {
      "cell_type": "markdown",
      "source": [
        "## 3. Data"
      ],
      "metadata": {
        "id": "5jAW9IvXBrec"
      }
    },
    {
      "cell_type": "markdown",
      "source": [
        "Data is acquired from [Kaggle Dog Breed Identification Competition](https://www.kaggle.com/c/dog-breed-identification/data)."
      ],
      "metadata": {
        "id": "pxafFCqUDZg2"
      }
    },
    {
      "cell_type": "markdown",
      "source": [
        "## 4. Features"
      ],
      "metadata": {
        "id": "3p5Qyin9BuSG"
      }
    },
    {
      "cell_type": "markdown",
      "source": [
        "#### Data Dictionary"
      ],
      "metadata": {
        "id": "t3mS-rj16OU2"
      }
    },
    {
      "cell_type": "markdown",
      "source": [
        "* Our model analyzes images (unstructured data) > deep learning / transfer learning.\n",
        "* There are 120 dog breeds in the training set > multiclass classification with 120 classes.\n",
        "* There are 10 222 images in the training set.\n",
        "* There are 10 357 images in the test set."
      ],
      "metadata": {
        "id": "DnGXzu-CKCie"
      }
    },
    {
      "cell_type": "markdown",
      "source": [
        "#### Importing the Tools"
      ],
      "metadata": {
        "id": "1-7sc5BnNrJe"
      }
    },
    {
      "cell_type": "code",
      "source": [
        "### importing tensorflow\n",
        "import tensorflow\n",
        "print(tensorflow.__version__)\n",
        "\n",
        "### importing tensorflow hub\n",
        "import tensorflow_hub as tfhub\n",
        "print(tfhub.__version__)\n",
        "\n",
        "### checking gpu availability\n",
        "print(tensorflow.config.list_physical_devices())\n",
        "\n",
        "### importing sklearn tools\n",
        "from sklearn.model_selection import train_test_split\n",
        "\n",
        "### other imports\n",
        "from pathlib import Path\n",
        "from pandas import read_csv, Series, get_dummies\n",
        "from IPython.display import Image"
      ],
      "metadata": {
        "id": "F8J6sQlQNuiw"
      },
      "execution_count": null,
      "outputs": []
    },
    {
      "cell_type": "markdown",
      "source": [
        "#### Uploading Data"
      ],
      "metadata": {
        "id": "_0j1UpM7Nele"
      }
    },
    {
      "cell_type": "code",
      "execution_count": null,
      "metadata": {
        "id": "anTh-vJKG55O"
      },
      "outputs": [],
      "source": [
        "### unzipping project data\n",
        "#!unzip \"drive/MyDrive/Colab Data/dog-recognition.zip\" -d \"drive/MyDrive/Colab Data/\""
      ]
    },
    {
      "cell_type": "markdown",
      "source": [
        "#### Importing and Exploring the Target Variable"
      ],
      "metadata": {
        "id": "7cEYIV4w3omE"
      }
    },
    {
      "cell_type": "code",
      "source": [
        "### importing labels\n",
        "labels_df = read_csv(filepath_or_buffer=\"drive/MyDrive/Colab Data/labels.csv\")"
      ],
      "metadata": {
        "id": "u48Ajtis9-YI"
      },
      "execution_count": null,
      "outputs": []
    },
    {
      "cell_type": "code",
      "source": [
        "### exploring labels: dataframe head\n",
        "labels_df.head()"
      ],
      "metadata": {
        "id": "RmkelXF9Yz9i"
      },
      "execution_count": null,
      "outputs": []
    },
    {
      "cell_type": "code",
      "source": [
        "### exploring labels: dataframe info\n",
        "labels_df.info()"
      ],
      "metadata": {
        "id": "iJqTWZ9p4chr"
      },
      "execution_count": null,
      "outputs": []
    },
    {
      "cell_type": "code",
      "source": [
        "### exploring labels: unique breeds\n",
        "labels_df[\"breed\"].unique().size"
      ],
      "metadata": {
        "id": "5tKl0ZEPZSkD"
      },
      "execution_count": null,
      "outputs": []
    },
    {
      "cell_type": "code",
      "source": [
        "### expploring labels: visualizing instances / breed\n",
        "labels_df[\"breed\"].value_counts().plot.bar(figsize=(15,5));"
      ],
      "metadata": {
        "id": "G9jIqj_p69Xj"
      },
      "execution_count": null,
      "outputs": []
    },
    {
      "cell_type": "code",
      "source": [
        "### exploring labels: mean of instances / breed\n",
        "labels_df[\"breed\"].value_counts().mean()"
      ],
      "metadata": {
        "id": "_BJk_mIw8R5v"
      },
      "execution_count": null,
      "outputs": []
    },
    {
      "cell_type": "markdown",
      "source": [
        "Google recommends at least 10 images per class.  \n",
        "We have adequate data with ~85 images per class on average."
      ],
      "metadata": {
        "id": "oXyJNET9-Ojj"
      }
    },
    {
      "cell_type": "markdown",
      "source": [
        "## 5. Modeling"
      ],
      "metadata": {
        "id": "pCXN_n-xNbh3"
      }
    },
    {
      "cell_type": "markdown",
      "source": [
        "#### Preparing Data: Image Filepaths (Features)"
      ],
      "metadata": {
        "id": "oqVWPEF_2eyt"
      }
    },
    {
      "cell_type": "code",
      "source": [
        "### counting number of images in train folder\n",
        "image_list = [image for image in Path(\"drive/MyDrive/Colab Data/train\").iterdir()]\n",
        "len(image_list)"
      ],
      "metadata": {
        "id": "OmFT6NELYLyq"
      },
      "execution_count": null,
      "outputs": []
    },
    {
      "cell_type": "code",
      "source": [
        "### creating filepaths of images from image ids\n",
        "features_series = \"drive/MyDrive/Colab Data/train/\" + labels_df[\"id\"] + \".jpg\""
      ],
      "metadata": {
        "id": "ObAn-Q-vUNNO"
      },
      "execution_count": null,
      "outputs": []
    },
    {
      "cell_type": "code",
      "source": [
        "### exploring imagepaths: series head\n",
        "features_series.head()"
      ],
      "metadata": {
        "id": "1G_5ZkpGbbsy"
      },
      "execution_count": null,
      "outputs": []
    },
    {
      "cell_type": "code",
      "source": [
        "### exploring imagepaths: series info\n",
        "features_series.info()"
      ],
      "metadata": {
        "id": "dEQZQ0lartA1"
      },
      "execution_count": null,
      "outputs": []
    },
    {
      "cell_type": "code",
      "source": [
        "### exploring imagepaths: checking validity of random imagepath\n",
        "print(labels_df[\"breed\"][9000])\n",
        "print()\n",
        "print(features_series[9000])\n",
        "print()\n",
        "Image(features_series[9000])"
      ],
      "metadata": {
        "id": "oNwXN8AaSd1K"
      },
      "execution_count": null,
      "outputs": []
    },
    {
      "cell_type": "markdown",
      "source": [
        "#### Preparing Data: Encoding Labels (Targets)"
      ],
      "metadata": {
        "id": "frjwu4LAiB0G"
      }
    },
    {
      "cell_type": "markdown",
      "source": [
        "All machine learning algorithms require data in numerical format.  \n",
        "So the first task is to turn training images into tensors.  \n",
        "A tensor is a numerical matrix with n-dimensions, like a numpy ndarray."
      ],
      "metadata": {
        "id": "oXbLq4rs2kLa"
      }
    },
    {
      "cell_type": "code",
      "source": [
        "### one hot encoding with pandas\n",
        "targets_df = get_dummies(data=labels_df, columns=[\"breed\"], dtype=int)\n",
        "targets_df = targets_df.drop(columns=\"id\")"
      ],
      "metadata": {
        "id": "hNpkH6PKiIq4"
      },
      "execution_count": null,
      "outputs": []
    },
    {
      "cell_type": "code",
      "source": [
        "### exploring targets: dataframe head\n",
        "targets_df.head()"
      ],
      "metadata": {
        "id": "aUJ9CVpudSpb"
      },
      "execution_count": null,
      "outputs": []
    },
    {
      "cell_type": "code",
      "source": [
        "### exploring targets: dataframe info\n",
        "targets_df.info()"
      ],
      "metadata": {
        "id": "sC6Y6mnCuVu7"
      },
      "execution_count": null,
      "outputs": []
    },
    {
      "cell_type": "code",
      "source": [
        "### exploring targets: nan\n",
        "targets_df.isna().any(axis=\"index\").any()"
      ],
      "metadata": {
        "id": "XCuPlzqtdwgr"
      },
      "execution_count": null,
      "outputs": []
    },
    {
      "cell_type": "markdown",
      "source": [
        "#### Reducing Data: Working Subset"
      ],
      "metadata": {
        "id": "hlGcPdCnKeol"
      }
    },
    {
      "cell_type": "code",
      "source": [
        "### splitting data working / rest\n",
        "PERCENT_IMAGES = 0.1 #@param {type:\"slider\", min:0.1, max:1.0, step:0.1}\n",
        "rest_features, work_features, rest_targets, work_targets = train_test_split(\n",
        "    features_series,\n",
        "    targets_df,\n",
        "    test_size=PERCENT_IMAGES,\n",
        "    random_state=42)"
      ],
      "metadata": {
        "id": "LwpycO0VKrAI"
      },
      "execution_count": null,
      "outputs": []
    },
    {
      "cell_type": "code",
      "source": [
        "### exploring working datasets\n",
        "work_features.shape, work_targets.shape"
      ],
      "metadata": {
        "id": "JXQEqXd3Oqbt"
      },
      "execution_count": null,
      "outputs": []
    },
    {
      "cell_type": "markdown",
      "source": [
        "#### Preparing Data: Training / Validation Split"
      ],
      "metadata": {
        "id": "-QYqWmEaPIZ2"
      }
    },
    {
      "cell_type": "code",
      "source": [
        "### splitting data train / valid\n",
        "train_features, valid_features, train_targets, valid_targets = train_test_split(\n",
        "    work_features,\n",
        "    work_targets,\n",
        "    test_size=0.2,\n",
        "    random_state=42)"
      ],
      "metadata": {
        "id": "HSZJx4dkPaFl"
      },
      "execution_count": null,
      "outputs": []
    },
    {
      "cell_type": "code",
      "source": [
        "### exploring train and valid datasets\n",
        "train_features.shape, train_targets.shape, valid_features.shape, valid_targets.shape"
      ],
      "metadata": {
        "id": "0hNb1JizQWVl"
      },
      "execution_count": null,
      "outputs": []
    },
    {
      "cell_type": "markdown",
      "source": [
        "#### Preparing Data: `(Feature,Target)` Tensor Tuple"
      ],
      "metadata": {
        "id": "wLoH-H1_nekD"
      }
    },
    {
      "cell_type": "code",
      "source": [
        "### function returning tensor tuple\n",
        "def tensorTuple(pImage_path, pIimage_size, pLabel):\n",
        "\n",
        "  ### reading the image file into string tensor\n",
        "  iImage = tensorflow.io.read_file(filename=pImage_path)\n",
        "\n",
        "  ### converting string tensor > constant tensor (decoding jpg)\n",
        "  iImage = tensorflow.image.decode_jpeg(contents=iImage, channels=3)\n",
        "\n",
        "  ### normalizing color channels to 0-1 range\n",
        "  iImage = tensorflow.image.convert_image_dtype(image=iImage, dtype=tensorflow.float32)\n",
        "\n",
        "  ### resizing image\n",
        "  iImage = tensorflow.image.resize(images=iImage, size=[pIimage_size, pIimage_size])\n",
        "\n",
        "  ### returning tensor tuple\n",
        "  return iImage, tensorflow.constant(value=pLabel)"
      ],
      "metadata": {
        "id": "076CXYAb4Cvp"
      },
      "execution_count": null,
      "outputs": []
    },
    {
      "cell_type": "code",
      "source": [
        "tensorTuple(pImage_path=train_features.iloc[42], pIimage_size=224, pLabel=train_targets.iloc[42])"
      ],
      "metadata": {
        "id": "Et1IsqnGywWO"
      },
      "execution_count": null,
      "outputs": []
    },
    {
      "cell_type": "markdown",
      "source": [
        "#### Preparing Data: Batches"
      ],
      "metadata": {
        "id": "Zbg__wK5ucV0"
      }
    },
    {
      "cell_type": "markdown",
      "source": [
        "GPUs have limited amount of memory.  \n",
        "The entire training dataset may not fit into GPU memory.  \n",
        "To resolve this, we split our training dataset into batches of ~32 tensors.  \n",
        "The neural network sees only one batch at a time during training."
      ],
      "metadata": {
        "id": "VXC0FXyJuuVs"
      }
    }
  ]
}