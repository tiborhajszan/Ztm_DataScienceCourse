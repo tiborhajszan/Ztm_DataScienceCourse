{
 "cells": [
  {
   "cell_type": "markdown",
   "metadata": {},
   "source": [
    "## Predicting the Sale Price of Bulldozers (Kaggle Competition)"
   ]
  },
  {
   "cell_type": "markdown",
   "metadata": {},
   "source": [
    "## 1. Problem Definition"
   ]
  },
  {
   "cell_type": "markdown",
   "metadata": {},
   "source": [
    "The goal of this project is to predict the sale price of bulldozers at auction.  \n",
    "Predictions are based on usage, equipment type, and configuaration.  \n",
    "The data is sourced from auction result postings.  \n",
    "Type of machine learning problem: **supervised learning / time series regression**"
   ]
  },
  {
   "cell_type": "markdown",
   "metadata": {},
   "source": [
    "## 2. Evaluation"
   ]
  },
  {
   "cell_type": "markdown",
   "metadata": {},
   "source": [
    "The competition evaluation metric was *root mean squared log error (RMSLE)*.  \n",
    "**Project goal:** To minimize the difference between actual and predicted prices, i.e., to minimize RMSLE."
   ]
  },
  {
   "cell_type": "markdown",
   "metadata": {},
   "source": [
    "## 3. Data"
   ]
  },
  {
   "cell_type": "markdown",
   "metadata": {},
   "source": [
    "Data is downloaded from the *Bluebook for Bulldozers* past Kaggle competition:  \n",
    "[Bluebook for Bulldozers Kaggle Competition](https://www.kaggle.com/c/bluebook-for-bulldozers/overview)  \n",
    "There are three main datasets:  \n",
    "* **Train.csv** is the training set, which contains data through the end of 2011.\n",
    "* **Valid.csv** is the validation set, which contains data from January 1, 2012 - April 30, 2012.  \n",
    "The score on this set was used to create the public leaderboard.\n",
    "* **Test.csv** is the test set, which contains data from May 1, 2012 - November 30, 2012.  \n",
    "The score on this set determined the final rank for the competition."
   ]
  },
  {
   "cell_type": "markdown",
   "metadata": {},
   "source": [
    "## 4. Data Features"
   ]
  },
  {
   "cell_type": "markdown",
   "metadata": {},
   "source": [
    "Kaggle provided a data dictiorany for these datasets.  \n",
    "See `data-dictionary.xlsx` in the project folder."
   ]
  },
  {
   "cell_type": "markdown",
   "metadata": {},
   "source": [
    "#### Importing the tools"
   ]
  },
  {
   "cell_type": "code",
   "execution_count": null,
   "metadata": {},
   "outputs": [],
   "source": [
    "### importing standard libraries\n",
    "from typing import List\n",
    "\n",
    "### importing data analysis libraries\n",
    "import numpy, pandas\n",
    "from pandas import read_csv, DataFrame, Series\n",
    "from matplotlib import pyplot\n",
    "from matplotlib.figure import Figure\n",
    "\n",
    "### importing machine learning libraries\n",
    "from sklearn.ensemble import RandomForestRegressor"
   ]
  },
  {
   "cell_type": "markdown",
   "metadata": {},
   "source": [
    "#### Importing data"
   ]
  },
  {
   "cell_type": "markdown",
   "metadata": {},
   "source": [
    "**Parsing dates**\n",
    "\n",
    "Working with time series data requires date/time information to be in python datetime format for easy processing.  \n",
    "Date/time columns are parsed into datetime format using the `parse_dates=` parameter of `read_csv()`."
   ]
  },
  {
   "cell_type": "code",
   "execution_count": null,
   "metadata": {},
   "outputs": [],
   "source": [
    "### importing bulldozer dataset from file\n",
    "bulldozer_df: DataFrame = read_csv(\n",
    "    filepath_or_buffer=\"../Large-Files/data-train-valid.csv\",\n",
    "    parse_dates=[\"saledate\"],\n",
    "    low_memory=False)"
   ]
  },
  {
   "cell_type": "markdown",
   "metadata": {},
   "source": [
    "#### Verifying and preparing dataframe"
   ]
  },
  {
   "cell_type": "code",
   "execution_count": null,
   "metadata": {},
   "outputs": [],
   "source": [
    "### displaying dataframe info\n",
    "bulldozer_df.info()"
   ]
  },
  {
   "cell_type": "code",
   "execution_count": null,
   "metadata": {},
   "outputs": [],
   "source": [
    "### checking for missing values\n",
    "bulldozer_df.isna().sum()"
   ]
  },
  {
   "cell_type": "markdown",
   "metadata": {},
   "source": [
    "**Sorting dataframe by date**\n",
    "\n",
    "When working with time series, it is better to sort data by date/time."
   ]
  },
  {
   "cell_type": "code",
   "execution_count": null,
   "metadata": {},
   "outputs": [],
   "source": [
    "### sorting dataframe by sale date\n",
    "bulldozer_sorted: DataFrame = bulldozer_df.sort_values(by=\"saledate\", ascending=True)\n",
    "bulldozer_sorted.head(20)"
   ]
  },
  {
   "cell_type": "markdown",
   "metadata": {},
   "source": [
    "**Enriching dataframe with date information**\n",
    "\n",
    "Using the `pandas.dt` interface, all sorts of information can be extracted from datetime values."
   ]
  },
  {
   "cell_type": "code",
   "execution_count": null,
   "metadata": {},
   "outputs": [],
   "source": [
    "### creating new columns from sale date column (splitting sale date column)\n",
    "bulldozer_sorted[\"saleYear\"] = bulldozer_sorted[\"saledate\"].dt.year\n",
    "bulldozer_sorted[\"saleMonth\"] = bulldozer_sorted[\"saledate\"].dt.month\n",
    "bulldozer_sorted[\"saleDay\"] = bulldozer_sorted[\"saledate\"].dt.day\n",
    "bulldozer_sorted[\"saleDayOfWeek\"] = bulldozer_sorted[\"saledate\"].dt.day_of_week\n",
    "bulldozer_sorted[\"saleDayOfYear\"] = bulldozer_sorted[\"saledate\"].dt.day_of_year\n",
    "\n",
    "### deleting original sale date column\n",
    "bulldozer_sorted = bulldozer_sorted.drop(columns=\"saledate\")\n",
    "bulldozer_sorted.head().T"
   ]
  },
  {
   "cell_type": "markdown",
   "metadata": {},
   "source": [
    "**Feature engineering**\n",
    "\n",
    "Feature engineering means processing data in the dataset.  \n",
    "It includes transforming existing data and/or creating new data from existing data."
   ]
  },
  {
   "cell_type": "markdown",
   "metadata": {},
   "source": [
    "#### Exploring the target variable"
   ]
  },
  {
   "cell_type": "code",
   "execution_count": null,
   "metadata": {},
   "outputs": [],
   "source": [
    "### plotting the distribution of target variable\n",
    "bulldozer_sorted[\"SalePrice\"].plot.hist(color=\"steelblue\")\n",
    "\n",
    "### customizing the plot\n",
    "pyplot.title(label=\"Distribution of Bulldozer Sale Prices\")\n",
    "pyplot.ylabel(ylabel=\"Sale Count\")\n",
    "pyplot.xlabel(xlabel=\"Sale Price ($)\");"
   ]
  },
  {
   "cell_type": "markdown",
   "metadata": {},
   "source": [
    "#### Exploring feature: Sale date"
   ]
  },
  {
   "cell_type": "code",
   "execution_count": null,
   "metadata": {},
   "outputs": [],
   "source": [
    "### plotting correlation between sale price and sale date\n",
    "bulldozer_df[:500].plot.scatter(y=\"SalePrice\", x=\"saledate\", c=\"steelblue\", s=50)\n",
    "\n",
    "### customizing the plot\n",
    "pyplot.title(label=\"Sale Price and Sale Date\")\n",
    "pyplot.ylabel(ylabel=\"Sale Price ($)\")\n",
    "pyplot.xlabel(xlabel=\"Sale Date\");"
   ]
  },
  {
   "cell_type": "markdown",
   "metadata": {},
   "source": [
    "#### Exploring feature: State of sale"
   ]
  },
  {
   "cell_type": "code",
   "execution_count": null,
   "metadata": {},
   "outputs": [],
   "source": [
    "### plotting the distribution of sales by state\n",
    "bulldozer_sorted[\"state\"].value_counts().sort_index(ascending=True).plot.bar(figsize=(12,5))\n",
    "\n",
    "### customizing the plot\n",
    "pyplot.title(label=\"Distribution of Sales by States\")\n",
    "pyplot.ylabel(ylabel=\"Sale Counts\");"
   ]
  },
  {
   "cell_type": "markdown",
   "metadata": {},
   "source": [
    "## 5. Modeling"
   ]
  },
  {
   "cell_type": "markdown",
   "metadata": {},
   "source": [
    "**Model-driven data exploration**\n",
    "\n",
    "When there are a huge amount of features, it may be better to start building a machine learning model right away.  \n",
    "Model-driven data exploration lets the machine learning algorithm select the most important features."
   ]
  },
  {
   "cell_type": "code",
   "execution_count": null,
   "metadata": {},
   "outputs": [],
   "source": [
    "### preparing a random forest regressor\n",
    "regressor: RandomForestRegressor = RandomForestRegressor(random_state=42, n_jobs=-1)\n",
    "regressor.fit(X=bulldozer_sorted.drop(columns=\"SalePrice\"), y=bulldozer_sorted[\"SalePrice\"])"
   ]
  },
  {
   "cell_type": "markdown",
   "metadata": {},
   "source": [
    "#### Preparing data: Converting strings into numbers"
   ]
  },
  {
   "cell_type": "markdown",
   "metadata": {},
   "source": [
    "**Pandas category datatype**\n",
    "\n",
    "One way to convert strings into numbers is to use the pandas category datatype.  \n",
    "Datatypes can be manipulated with the `pandas.api.types` interface.  \n",
    "The category datatype is manipulated with the `pandas.cat` interface."
   ]
  },
  {
   "cell_type": "code",
   "execution_count": null,
   "metadata": {},
   "outputs": [],
   "source": [
    "### converting string columns > category columns\n",
    "for column,values in bulldozer_sorted.items():\n",
    "    if pandas.api.types.is_string_dtype(values):\n",
    "        bulldozer_sorted[column] = values.astype('category').cat.as_ordered()"
   ]
  },
  {
   "cell_type": "code",
   "execution_count": null,
   "metadata": {},
   "outputs": [],
   "source": [
    "### checking success of conversion\n",
    "bulldozer_sorted.info()"
   ]
  },
  {
   "cell_type": "code",
   "execution_count": null,
   "metadata": {},
   "outputs": [],
   "source": [
    "### checking category names\n",
    "bulldozer_sorted[\"state\"].cat.categories"
   ]
  },
  {
   "cell_type": "code",
   "execution_count": null,
   "metadata": {},
   "outputs": [],
   "source": [
    "### checking category encoding\n",
    "bulldozer_sorted[\"state\"].cat.codes"
   ]
  },
  {
   "cell_type": "markdown",
   "metadata": {},
   "source": [
    "#### Preparing data: Filling missing numerical values"
   ]
  },
  {
   "cell_type": "code",
   "execution_count": null,
   "metadata": {},
   "outputs": [],
   "source": [
    "### filling missing numerical values with median\n",
    "for column,values in bulldozer_sorted.items():\n",
    "    if pandas.api.types.is_numeric_dtype(values) \\\n",
    "    and values.isna().sum():\n",
    "        bulldozer_sorted[column+\"_missing\"] = values.isna() # saving location of missing values\n",
    "        bulldozer_sorted[column] = values.fillna(value=values.median()) # filling with median"
   ]
  },
  {
   "cell_type": "markdown",
   "metadata": {},
   "source": [
    "**Statistical concept**\n",
    "\n",
    "The mean is much more sensitive to outliers than the median.  \n",
    "Using the median is advised with large datasets full of outliers."
   ]
  },
  {
   "cell_type": "code",
   "execution_count": null,
   "metadata": {},
   "outputs": [],
   "source": [
    "### checking success of filling\n",
    "for column,values in bulldozer_sorted.items():\n",
    "    if pandas.api.types.is_numeric_dtype(values) \\\n",
    "    and values.isna().sum():\n",
    "        print(column)"
   ]
  },
  {
   "cell_type": "code",
   "execution_count": null,
   "metadata": {},
   "outputs": [],
   "source": [
    "### checking saved missing value columns\n",
    "for column,values in bulldozer_sorted.items():\n",
    "    if pandas.api.types.is_bool_dtype(values):\n",
    "        print(column)\n",
    "        print(values.value_counts().sort_index(ascending=False))"
   ]
  },
  {
   "cell_type": "markdown",
   "metadata": {},
   "source": [
    "#### Preparing data: Converting and filling categorical values"
   ]
  },
  {
   "cell_type": "code",
   "execution_count": null,
   "metadata": {},
   "outputs": [],
   "source": [
    "### converting category > int and filling missing values\n",
    "cat_missing: List[str] = list()\n",
    "not_numeric: List[str] = list()\n",
    "for column,values in bulldozer_sorted.items():\n",
    "    column: str; values: Series\n",
    "    if not pandas.api.types.is_numeric_dtype(values):\n",
    "        ## saving location of missing values\n",
    "        if 0 < values.isna().sum():\n",
    "            bulldozer_sorted[column+\"_missing\"] = values.isna()\n",
    "            cat_missing.append(column+\"_missing\")\n",
    "        ## converting category > int and filling missing values with 0\n",
    "        bulldozer_sorted[column] = values.cat.codes + 1\n",
    "        not_numeric.append(column)"
   ]
  },
  {
   "cell_type": "code",
   "execution_count": null,
   "metadata": {},
   "outputs": [],
   "source": [
    "### checking success of conversion and filling\n",
    "bulldozer_sorted.info(verbose=True)"
   ]
  },
  {
   "cell_type": "code",
   "execution_count": null,
   "metadata": {},
   "outputs": [],
   "source": [
    "### checking category value encodings\n",
    "for column in not_numeric:\n",
    "    print(bulldozer_sorted[column].value_counts())"
   ]
  },
  {
   "cell_type": "code",
   "execution_count": null,
   "metadata": {},
   "outputs": [],
   "source": [
    "### checking missing value columns\n",
    "for column in cat_missing:\n",
    "    print(bulldozer_sorted[column].value_counts().sort_index(ascending=False))"
   ]
  }
 ],
 "metadata": {
  "kernelspec": {
   "display_name": "zVenv",
   "language": "python",
   "name": "python3"
  },
  "language_info": {
   "codemirror_mode": {
    "name": "ipython",
    "version": 3
   },
   "file_extension": ".py",
   "mimetype": "text/x-python",
   "name": "python",
   "nbconvert_exporter": "python",
   "pygments_lexer": "ipython3",
   "version": "3.8.10"
  }
 },
 "nbformat": 4,
 "nbformat_minor": 2
}
