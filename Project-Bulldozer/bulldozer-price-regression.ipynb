{
 "cells": [
  {
   "cell_type": "markdown",
   "metadata": {},
   "source": [
    "## Predicting the Sale Price of Bulldozers (Kaggle Competition)"
   ]
  },
  {
   "cell_type": "markdown",
   "metadata": {},
   "source": [
    "## 1. Problem Definition"
   ]
  },
  {
   "cell_type": "markdown",
   "metadata": {},
   "source": [
    "The goal of this project is to predict the sale price of bulldozers at auction.  \n",
    "Predictions are based on usage, equipment type, and configuaration.  \n",
    "The data is sourced from auction result postings.  \n",
    "Type of machine learning problem: **supervised learning / time series regression**"
   ]
  },
  {
   "cell_type": "markdown",
   "metadata": {},
   "source": [
    "## 2. Evaluation"
   ]
  },
  {
   "cell_type": "markdown",
   "metadata": {},
   "source": [
    "The competition evaluation metric was *root mean squared log error (RMSLE)*.  \n",
    "**Project goal:** To minimize the difference between actual and predicted prices, i.e., to minimize RMSLE."
   ]
  },
  {
   "cell_type": "markdown",
   "metadata": {},
   "source": [
    "## 3. Data"
   ]
  },
  {
   "cell_type": "markdown",
   "metadata": {},
   "source": [
    "Data is downloaded from the *Bluebook for Bulldozers* past Kaggle competition:  \n",
    "[Bluebook for Bulldozers Kaggle Competition](https://www.kaggle.com/c/bluebook-for-bulldozers/overview)  \n",
    "There are three main datasets:  \n",
    "* **Train.csv** is the training set, which contains data through the end of 2011.\n",
    "* **Valid.csv** is the validation set, which contains data from January 1, 2012 - April 30, 2012.  \n",
    "The score on this set was used to create the public leaderboard.\n",
    "* **Test.csv** is the test set, which contains data from May 1, 2012 - November 30, 2012.  \n",
    "The score on this set determined the final rank for the competition."
   ]
  },
  {
   "cell_type": "markdown",
   "metadata": {},
   "source": [
    "## 4. Data Features"
   ]
  },
  {
   "cell_type": "markdown",
   "metadata": {},
   "source": [
    "Kaggle provided a data dictiorany for these datasets.  \n",
    "See `data-dictionary.xlsx` in the project folder."
   ]
  },
  {
   "cell_type": "markdown",
   "metadata": {},
   "source": [
    "#### Importing the tools"
   ]
  },
  {
   "cell_type": "code",
   "execution_count": null,
   "metadata": {},
   "outputs": [],
   "source": [
    "### importing data analysis libraries\n",
    "import numpy\n",
    "from pandas import read_csv, DataFrame\n",
    "from matplotlib import pyplot\n",
    "from matplotlib.figure import Figure\n",
    "\n",
    "### importing machine learning libraries\n",
    "from sklearn.ensemble import RandomForestRegressor"
   ]
  },
  {
   "cell_type": "markdown",
   "metadata": {},
   "source": [
    "#### Importing data"
   ]
  },
  {
   "cell_type": "markdown",
   "metadata": {},
   "source": [
    "**Parsing dates**\n",
    "\n",
    "Working with time series data requires date/time information to be in python datetime format for easy processing.  \n",
    "Date/time columns are parsed into datetime format using the `parse_dates=` parameter of `read_csv()`."
   ]
  },
  {
   "cell_type": "code",
   "execution_count": null,
   "metadata": {},
   "outputs": [],
   "source": [
    "### importing bulldozer dataset from file\n",
    "bulldozer_df: DataFrame = read_csv(\n",
    "    filepath_or_buffer=\"../Large-Files/data-train-valid.csv\",\n",
    "    parse_dates=[\"saledate\"],\n",
    "    low_memory=False)"
   ]
  },
  {
   "cell_type": "markdown",
   "metadata": {},
   "source": [
    "#### Verifying and preparing dataframe"
   ]
  },
  {
   "cell_type": "code",
   "execution_count": null,
   "metadata": {},
   "outputs": [],
   "source": [
    "### displaying dataframe info\n",
    "bulldozer_df.info()"
   ]
  },
  {
   "cell_type": "code",
   "execution_count": null,
   "metadata": {},
   "outputs": [],
   "source": [
    "### checking for missing values\n",
    "bulldozer_df.isna().sum()"
   ]
  },
  {
   "cell_type": "markdown",
   "metadata": {},
   "source": [
    "**Sorting dataframe by date**\n",
    "\n",
    "When working with time series, it is better to sort data by date/time."
   ]
  },
  {
   "cell_type": "code",
   "execution_count": null,
   "metadata": {},
   "outputs": [],
   "source": [
    "### sorting dataframe by sale date\n",
    "bulldozer_sorted: DataFrame = bulldozer_df.sort_values(by=\"saledate\", ascending=True)\n",
    "bulldozer_sorted.head(20)"
   ]
  },
  {
   "cell_type": "markdown",
   "metadata": {},
   "source": [
    "**Enriching dataframe with date information**\n",
    "\n",
    "Using the `pandas.dt` attributes, all sorts of information can be extracted from datetime values."
   ]
  },
  {
   "cell_type": "code",
   "execution_count": null,
   "metadata": {},
   "outputs": [],
   "source": [
    "### creating new columns from sale date column (splitting sale date column)\n",
    "bulldozer_sorted[\"saleYear\"] = bulldozer_sorted[\"saledate\"].dt.year\n",
    "bulldozer_sorted[\"saleMonth\"] = bulldozer_sorted[\"saledate\"].dt.month\n",
    "bulldozer_sorted[\"saleDay\"] = bulldozer_sorted[\"saledate\"].dt.day\n",
    "bulldozer_sorted[\"saleDayOfWeek\"] = bulldozer_sorted[\"saledate\"].dt.day_of_week\n",
    "bulldozer_sorted[\"saleDayOfYear\"] = bulldozer_sorted[\"saledate\"].dt.day_of_year\n",
    "\n",
    "### deleting original sale date column\n",
    "bulldozer_sorted = bulldozer_sorted.drop(columns=\"saledate\")\n",
    "bulldozer_sorted.head().T"
   ]
  },
  {
   "cell_type": "markdown",
   "metadata": {},
   "source": [
    "**Feature engineering**\n",
    "\n",
    "Feature engineering means processing data in the dataset.  \n",
    "It includes transforming existing data and/or creating new data from existing data."
   ]
  },
  {
   "cell_type": "markdown",
   "metadata": {},
   "source": [
    "#### Exploring the target variable"
   ]
  },
  {
   "cell_type": "code",
   "execution_count": null,
   "metadata": {},
   "outputs": [],
   "source": [
    "### plotting the distribution of target variable\n",
    "bulldozer_sorted[\"SalePrice\"].plot.hist(color=\"steelblue\")\n",
    "\n",
    "### customizing the plot\n",
    "pyplot.title(label=\"Distribution of Bulldozer Sale Prices\")\n",
    "pyplot.ylabel(ylabel=\"Sale Count\")\n",
    "pyplot.xlabel(xlabel=\"Sale Price ($)\");"
   ]
  },
  {
   "cell_type": "markdown",
   "metadata": {},
   "source": [
    "#### Exploring feature: Sale date"
   ]
  },
  {
   "cell_type": "code",
   "execution_count": null,
   "metadata": {},
   "outputs": [],
   "source": [
    "### plotting correlation between sale price and sale date\n",
    "bulldozer_df[:500].plot.scatter(y=\"SalePrice\", x=\"saledate\", c=\"steelblue\", s=50)\n",
    "\n",
    "### customizing the plot\n",
    "pyplot.title(label=\"Sale Price and Sale Date\")\n",
    "pyplot.ylabel(ylabel=\"Sale Price ($)\")\n",
    "pyplot.xlabel(xlabel=\"Sale Date\");"
   ]
  },
  {
   "cell_type": "markdown",
   "metadata": {},
   "source": [
    "#### Exploring feature: State of sale"
   ]
  },
  {
   "cell_type": "code",
   "execution_count": null,
   "metadata": {},
   "outputs": [],
   "source": [
    "### plotting the distribution of sales by state\n",
    "bulldozer_sorted[\"state\"].value_counts().sort_index(ascending=True).plot.bar(figsize=(12,5))\n",
    "\n",
    "### customizing the plot\n",
    "pyplot.title(label=\"Distribution of Sales by States\")\n",
    "pyplot.ylabel(ylabel=\"Sale Counts\");"
   ]
  },
  {
   "cell_type": "markdown",
   "metadata": {},
   "source": [
    "## 5. Modeling"
   ]
  },
  {
   "cell_type": "markdown",
   "metadata": {},
   "source": [
    "**Model-driven data exploration**\n",
    "\n",
    "When there are a huge amount of features, it may be better to start building a machine learning model right away.  \n",
    "Model-driven data exploration lets the machine learning algorithm select the most important features."
   ]
  },
  {
   "cell_type": "code",
   "execution_count": null,
   "metadata": {},
   "outputs": [],
   "source": [
    "### preparing a random forest regressor\n",
    "regressor: RandomForestRegressor = RandomForestRegressor(random_state=42, n_jobs=-1)\n",
    "regressor.fit(X=bulldozer_sorted.drop(columns=\"SalePrice\"), y=bulldozer_sorted[\"SalePrice\"])"
   ]
  }
 ],
 "metadata": {
  "kernelspec": {
   "display_name": "zVenv",
   "language": "python",
   "name": "python3"
  },
  "language_info": {
   "codemirror_mode": {
    "name": "ipython",
    "version": 3
   },
   "file_extension": ".py",
   "mimetype": "text/x-python",
   "name": "python",
   "nbconvert_exporter": "python",
   "pygments_lexer": "ipython3",
   "version": "3.8.10"
  }
 },
 "nbformat": 4,
 "nbformat_minor": 2
}
