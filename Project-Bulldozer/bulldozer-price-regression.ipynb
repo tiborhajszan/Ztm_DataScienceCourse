{
 "cells": [
  {
   "cell_type": "markdown",
   "metadata": {},
   "source": [
    "## Predicting the Sale Price of Bulldozers (Kaggle Competition)"
   ]
  },
  {
   "cell_type": "markdown",
   "metadata": {},
   "source": [
    "## 1. Problem Definition"
   ]
  },
  {
   "cell_type": "markdown",
   "metadata": {},
   "source": [
    "The goal of this project is to predict the sale price of bulldozers at auction.  \n",
    "Predictions are based on usage, equipment type, and configuaration.  \n",
    "The data is sourced from auction result postings.  \n",
    "Type of machine learning problem: **supervised learning / time series regression**"
   ]
  },
  {
   "cell_type": "markdown",
   "metadata": {},
   "source": [
    "## 2. Data"
   ]
  },
  {
   "cell_type": "markdown",
   "metadata": {},
   "source": [
    "Data is downloaded from the *Bluebook for Bulldozers* past Kaggle competition:  \n",
    "[Bluebook for Bulldozers Kaggle Competition](https://www.kaggle.com/c/bluebook-for-bulldozers/overview)  \n",
    "There are three main datasets:  \n",
    "* **Train.csv** is the training set, which contains data through the end of 2011.\n",
    "* **Valid.csv** is the validation set, which contains data from January 1, 2012 - April 30, 2012.  \n",
    "The score on this set was used to create the public leaderboard.\n",
    "* **Test.csv** is the test set, which contains data from May 1, 2012 - November 30, 2012.  \n",
    "The score on this set determined the final rank for the competition."
   ]
  },
  {
   "cell_type": "markdown",
   "metadata": {},
   "source": [
    "## 3. Evaluation"
   ]
  },
  {
   "cell_type": "markdown",
   "metadata": {},
   "source": [
    "The competition evaluation metric was *root mean squared log error (RMSLE)*.  \n",
    "**Project goal:** To minimize the difference between actual and predicted prices, i.e., to minimize RMSLE."
   ]
  },
  {
   "cell_type": "markdown",
   "metadata": {},
   "source": [
    "## 4. Features"
   ]
  },
  {
   "cell_type": "markdown",
   "metadata": {},
   "source": [
    "Kaggle provided a data dictiorany for these datasets.  \n",
    "See `data-dictionary.xlsx` in the project folder."
   ]
  },
  {
   "cell_type": "markdown",
   "metadata": {},
   "source": [
    "#### Importing the tools"
   ]
  },
  {
   "cell_type": "code",
   "execution_count": null,
   "metadata": {},
   "outputs": [],
   "source": [
    "### imports\n",
    "import numpy, sklearn\n",
    "from pandas import read_csv, DataFrame\n",
    "from matplotlib import pyplot"
   ]
  },
  {
   "cell_type": "markdown",
   "metadata": {},
   "source": [
    "#### Importing data"
   ]
  },
  {
   "cell_type": "markdown",
   "metadata": {},
   "source": [
    "**Parsing dates**\n",
    "\n",
    "Working with time series data requires the date/time information to be parsed into datetime format.  \n",
    "Date/time columns are parsed using the `parse_dates=` parameter of `read_csv()`."
   ]
  },
  {
   "cell_type": "code",
   "execution_count": null,
   "metadata": {},
   "outputs": [],
   "source": [
    "### importing bulldozer dataset from file\n",
    "bulldozer_df: DataFrame = read_csv(\n",
    "    filepath_or_buffer=\"../Large-Files/train-valid.csv\",\n",
    "    parse_dates=[\"saledate\"],\n",
    "    low_memory=False)"
   ]
  },
  {
   "cell_type": "markdown",
   "metadata": {},
   "source": [
    "#### Verifying dataframe integrity"
   ]
  },
  {
   "cell_type": "code",
   "execution_count": null,
   "metadata": {},
   "outputs": [],
   "source": [
    "### displaying dataframe dimension, column name, missing value, and datatype info\n",
    "bulldozer_df.info()"
   ]
  },
  {
   "cell_type": "code",
   "execution_count": null,
   "metadata": {},
   "outputs": [],
   "source": [
    "### checking for missing values\n",
    "bulldozer_df.isna().sum()"
   ]
  },
  {
   "cell_type": "code",
   "execution_count": null,
   "metadata": {},
   "outputs": [],
   "source": [
    "bulldozer_data[\"SalePrice\"].plot.hist();"
   ]
  }
 ],
 "metadata": {
  "kernelspec": {
   "display_name": "zVenv",
   "language": "python",
   "name": "python3"
  },
  "language_info": {
   "codemirror_mode": {
    "name": "ipython",
    "version": 3
   },
   "file_extension": ".py",
   "mimetype": "text/x-python",
   "name": "python",
   "nbconvert_exporter": "python",
   "pygments_lexer": "ipython3",
   "version": "3.8.10"
  }
 },
 "nbformat": 4,
 "nbformat_minor": 2
}
