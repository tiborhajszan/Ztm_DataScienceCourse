{
 "cells": [
  {
   "cell_type": "markdown",
   "metadata": {},
   "source": [
    "## MatPlotLib: Python Library for Data Visualization"
   ]
  },
  {
   "cell_type": "code",
   "execution_count": null,
   "metadata": {},
   "outputs": [],
   "source": [
    "### imports\n",
    "from typing import List, Dict\n",
    "import numpy, pandas\n",
    "from matplotlib import pyplot, lines, colors\n",
    "from matplotlib.figure import Figure\n",
    "\n",
    "### rendering plots inside this notebook\n",
    "%matplotlib inline"
   ]
  },
  {
   "cell_type": "markdown",
   "metadata": {},
   "source": [
    "## Two Ways of Plotting"
   ]
  },
  {
   "cell_type": "markdown",
   "metadata": {},
   "source": [
    "#### Stateless plotting"
   ]
  },
  {
   "cell_type": "code",
   "execution_count": null,
   "metadata": {},
   "outputs": [],
   "source": [
    "### stateless blank plot\n",
    "pyplot.plot()\n",
    "\n",
    "### displaying plot without matplotlib messages\n",
    "pyplot.show()"
   ]
  },
  {
   "cell_type": "markdown",
   "metadata": {},
   "source": [
    "**matplotlib syntax**\n",
    "\n",
    "semicolon (;) at line end substitutes `pyplot.show()`"
   ]
  },
  {
   "cell_type": "code",
   "execution_count": null,
   "metadata": {},
   "outputs": [],
   "source": [
    "### stateless line plot, [1,2,3,4] (y-axis) only\n",
    "pyplot.plot([1,2,3,4]);"
   ]
  },
  {
   "cell_type": "code",
   "execution_count": null,
   "metadata": {},
   "outputs": [],
   "source": [
    "### stateless line plot, [1,2,3,4] (x-axis), [11,22,33,44] (y-axis)\n",
    "pyplot.plot([1,2,3,4], [11,22,33,44]);"
   ]
  },
  {
   "cell_type": "markdown",
   "metadata": {},
   "source": [
    "#### Object oriented plotting"
   ]
  },
  {
   "cell_type": "markdown",
   "metadata": {},
   "source": [
    "**matplotlib concept**\n",
    "\n",
    "figure object represents entire figure with all subplots  \n",
    "axis objects represent subplots"
   ]
  },
  {
   "cell_type": "code",
   "execution_count": null,
   "metadata": {},
   "outputs": [],
   "source": [
    "### figure object (figure), subplot object (axis)\n",
    "figure,axis = pyplot.subplots()\n",
    "\n",
    "### line plot, [1,2,3,4] (x-axis), [11,22,33,44] (y-axis)\n",
    "axis.plot([1,2,3,4], [11,22,33,44]);"
   ]
  },
  {
   "cell_type": "markdown",
   "metadata": {},
   "source": [
    "## Matplotlib Workflow"
   ]
  },
  {
   "cell_type": "markdown",
   "metadata": {},
   "source": [
    "**matplotlib workflow steps**\n",
    "* preparing data\n",
    "* creating figure (object oriented plotting)\n",
    "* plotting data\n",
    "* customizing plot\n",
    "* saving figure"
   ]
  },
  {
   "cell_type": "code",
   "execution_count": null,
   "metadata": {},
   "outputs": [],
   "source": [
    "### preparing data\n",
    "ydata = [11,22,33,44]\n",
    "xdata = [1,2,3,4]\n",
    "\n",
    "### creating figure, figure object (figure), subplot object (axis), with=5inch x height=5inch (figsize)\n",
    "figure,axis = pyplot.subplots(figsize=(5,5))\n",
    "\n",
    "### plotting data, line plot, xdata (x-axis), ydata (y-axis)\n",
    "axis.plot(xdata, ydata)\n",
    "\n",
    "### customizing subplot, subplot title (title), y-axis legend (ylabel), x-axis legend (xlabel)\n",
    "axis.set(\n",
    "    title = \"Sample Plot\",\n",
    "    ylabel = \"y-Axis\",\n",
    "    xlabel = \"x-Axis\")\n",
    "\n",
    "### saving figure\n",
    "figure.savefig(fname=\"plot-sample.png\")"
   ]
  },
  {
   "cell_type": "markdown",
   "metadata": {},
   "source": [
    "**matplotlib syntax**\n",
    "\n",
    "`figure.savefig()` also substitutes `pyplot.show()`"
   ]
  },
  {
   "cell_type": "markdown",
   "metadata": {},
   "source": [
    "## Plotting from NumPy: Plot Types"
   ]
  },
  {
   "cell_type": "markdown",
   "metadata": {},
   "source": [
    "#### Line plots"
   ]
  },
  {
   "cell_type": "code",
   "execution_count": null,
   "metadata": {},
   "outputs": [],
   "source": [
    "### numpy linear array (linspace_array), contains 100 numbers (num)\n",
    "linspace_array = numpy.linspace(\n",
    "    start=0,\n",
    "    stop=10,\n",
    "    num=100)\n",
    "\n",
    "### figure object (figure), subplot object (axis)\n",
    "figure,axis = pyplot.subplots()\n",
    "\n",
    "### line plot, linspace_array (x-axis), linspace_array squared (y-axis)\n",
    "axis.plot(linspace_array, linspace_array**2);"
   ]
  },
  {
   "cell_type": "markdown",
   "metadata": {},
   "source": [
    "#### Scatter plots"
   ]
  },
  {
   "cell_type": "code",
   "execution_count": null,
   "metadata": {},
   "outputs": [],
   "source": [
    "### numpy linear array (linspace_array), contains 100 numbers (num)\n",
    "linspace_array = numpy.linspace(\n",
    "    start=0,\n",
    "    stop=10,\n",
    "    num=100)\n",
    "\n",
    "### figure object (figure), subplot object (axis)\n",
    "figure,axis = pyplot.subplots()\n",
    "\n",
    "### scatter plot, sine of linspace_array (y-axis), linspace_array (x-axis)\n",
    "axis.scatter(\n",
    "    y=numpy.sin(linspace_array),\n",
    "    x=linspace_array);"
   ]
  },
  {
   "cell_type": "markdown",
   "metadata": {},
   "source": [
    "#### Bar plots"
   ]
  },
  {
   "cell_type": "code",
   "execution_count": null,
   "metadata": {},
   "outputs": [],
   "source": [
    "### dictionary data\n",
    "butter_prices = {\n",
    "    \"Almond Butter\": 10,\n",
    "    \"Peanut Butter\": 8,\n",
    "    \"Cashew Butter\": 12}\n",
    "butter_prices"
   ]
  },
  {
   "cell_type": "code",
   "execution_count": null,
   "metadata": {},
   "outputs": [],
   "source": [
    "### figure object (figure), subplot object (axis)\n",
    "figure,axis = pyplot.subplots()\n",
    "\n",
    "### vertical bar plot, dictionary values (height), dictionary keys (x-axis)\n",
    "axis.bar(\n",
    "    height=butter_prices.values(),\n",
    "    x=list(butter_prices.keys()))\n",
    "\n",
    "### customizing subplot, subplot title (title), y-axis legend (ylabel)\n",
    "axis.set(\n",
    "    title=\"Nut Butter Store Prices\",\n",
    "    ylabel=\"Price ($)\");"
   ]
  },
  {
   "cell_type": "code",
   "execution_count": null,
   "metadata": {},
   "outputs": [],
   "source": [
    "### figure object (figure), subplot object (axis)\n",
    "figure,axis = pyplot.subplots()\n",
    "\n",
    "### horizontal bar plot, dictionary keys (y-axis), dictionary values (width)\n",
    "axis.barh(\n",
    "    y=list(butter_prices.keys()),\n",
    "    width=butter_prices.values())\n",
    "\n",
    "### customizing subplot, subplot title (title), x-axis legend (xlabel)\n",
    "axis.set(\n",
    "    title=\"Nut Butter Store Prices\",\n",
    "    xlabel=\"Price ($)\");"
   ]
  },
  {
   "cell_type": "markdown",
   "metadata": {},
   "source": [
    "#### Histogram plots"
   ]
  },
  {
   "cell_type": "markdown",
   "metadata": {},
   "source": [
    "**histogram plot concept**\n",
    "\n",
    "histogram plots display the probability distribution of a dataset  \n",
    "first, the dataset entire span (max value - min value) is divided into equally sized ranges (bins)  \n",
    "heights of histogram columns represent the number of items within each bin"
   ]
  },
  {
   "cell_type": "code",
   "execution_count": null,
   "metadata": {},
   "outputs": [],
   "source": [
    "### numpy random normal distribution (randn_array), contains 1000 numbers\n",
    "randn_array: numpy.ndarray = numpy.random.randn(1000)\n",
    "\n",
    "### figure object (figure), subplot object (axis)\n",
    "figure,axis = pyplot.subplots()\n",
    "figure: pyplot.Figure; axis: pyplot.Axes\n",
    "\n",
    "### histogram plot, number of items (y-axis), randn_array bins (x-axis)\n",
    "axis.hist(x=randn_array);"
   ]
  },
  {
   "cell_type": "markdown",
   "metadata": {},
   "source": [
    "#### Subplots: Option 1"
   ]
  },
  {
   "cell_type": "code",
   "execution_count": null,
   "metadata": {},
   "outputs": [],
   "source": [
    "### numpy linear array (linspace_array), contains 100 numbers (num)\n",
    "linspace_array: numpy.ndarray = numpy.linspace(\n",
    "    start=0,\n",
    "    stop=10,\n",
    "    num=100)\n",
    "\n",
    "### dictionary data\n",
    "butter_prices: Dict[str,int] = {\n",
    "    \"Almond Butter\": 10,\n",
    "    \"Peanut Butter\": 8,\n",
    "    \"Cashew Butter\": 12}\n",
    "\n",
    "### numpy random normal distribution array (randn_array), contains 1000 numbers\n",
    "randn_array: numpy.ndarray = numpy.random.randn(1000)\n",
    "\n",
    "### figure object (figure), subplot objects tuple (ax-row-column)\n",
    "### grid rows (nrows), grid columns (ncols), (width,height) in inches (figsize)\n",
    "figure,((ax11,ax12),(ax21,ax22)) = pyplot.subplots(\n",
    "    nrows=2,\n",
    "    ncols=2,\n",
    "    figsize=(10,7))\n",
    "figure: pyplot.Figure\n",
    "\n",
    "### line plot (ax11), linspace_array (x-axis), linspace_array squared (y-axis)\n",
    "ax11: pyplot.Axes\n",
    "ax11.plot(linspace_array, linspace_array**2)\n",
    "\n",
    "### numpy random array (rand), contains 10 numbers\n",
    "### scatter plot (ax12), numpy random array (y-axis), numpy random array (x-axis)\n",
    "ax12: pyplot.Axes\n",
    "ax12.scatter(\n",
    "    y=numpy.random.rand(10),\n",
    "    x=numpy.random.rand(10))\n",
    "\n",
    "### vertical bar plot (ax21), dictionary values (height), dictionary keys (x-axis)\n",
    "ax21: pyplot.Axes\n",
    "ax21.bar(\n",
    "    height=butter_prices.values(),\n",
    "    x=list(butter_prices.keys()))\n",
    "\n",
    "### histogram plot (ax22), number of items (y-axis), numpy random normal distribution array bins (x-axis)\n",
    "ax22: pyplot.Axes\n",
    "ax22.hist(x=randn_array);"
   ]
  },
  {
   "cell_type": "markdown",
   "metadata": {},
   "source": [
    "#### Subplots: Option 2"
   ]
  },
  {
   "cell_type": "code",
   "execution_count": null,
   "metadata": {},
   "outputs": [],
   "source": [
    "### numpy linearly spaced array (linspace_array), contains 100 numbers (num)\n",
    "linspace_array: numpy.ndarray = numpy.linspace(\n",
    "    start=0,\n",
    "    stop=10,\n",
    "    num=100)\n",
    "\n",
    "### butter prices dictionary\n",
    "butter_prices: Dict[str,int] = {\n",
    "    \"Almond Butter\": 10,\n",
    "    \"Peanut Butter\": 8,\n",
    "    \"Cashew Butter\": 12}\n",
    "\n",
    "### numpy random normal distribution array (randnorm_array), contains 1000 numbers\n",
    "randnorm_array: numpy.ndarray = numpy.random.randn(1000)\n",
    "\n",
    "### figure object (figure), subplot objects 2x2 numpy array (axes), (width,height) in inches (figsize)\n",
    "figure,axes = pyplot.subplots(\n",
    "    nrows=2,\n",
    "    ncols=2,\n",
    "    figsize=(10,7))\n",
    "figure: pyplot.Figure; axes: numpy.ndarray\n",
    "\n",
    "### line plot (axes[0,0]), linearly spaced array (x-axis), linearly spaced array squared (y-axis)\n",
    "axes[0,0].plot(linspace_array, linspace_array**2)\n",
    "\n",
    "### numpy random numbers (0-1) array (rand), contains 10 numbers\n",
    "### scatter plot (axes[0,1]), random numbers array (y-axis), random numbers array (x-axis)\n",
    "axes[0,1].scatter(\n",
    "    y=numpy.random.rand(10),\n",
    "    x=numpy.random.rand(10))\n",
    "\n",
    "### horizontal bar plot (axes[1,0]), butter prices values (height), butter prices keys (x-axis)\n",
    "axes[1,0].bar(\n",
    "    height=butter_prices.values(),\n",
    "    x=list(butter_prices.keys()))\n",
    "\n",
    "### histogram plot (axes[1,1]), number of items (y-axis), random normal distribution array bins (x-axis)\n",
    "axes[1,1].hist(x=randn_array);"
   ]
  },
  {
   "cell_type": "markdown",
   "metadata": {},
   "source": [
    "**Opinion:**  \n",
    "I personally do not like this subplots option 2.  \n",
    "Despite my best efforts, I am unable to make VsCode recognize the content type of `axes` variable."
   ]
  },
  {
   "cell_type": "markdown",
   "metadata": {},
   "source": [
    "## Plotting from Pandas (x)"
   ]
  },
  {
   "cell_type": "markdown",
   "metadata": {},
   "source": [
    "#### Stateless plotting from random series"
   ]
  },
  {
   "cell_type": "code",
   "execution_count": null,
   "metadata": {},
   "outputs": [],
   "source": [
    "### numpy random normal distribution array with 1000 numbers\n",
    "randnorm_array: numpy.ndarray = numpy.random.randn(1000)\n",
    "### pandas series of dates with 1000 dates\n",
    "date_series: pandas.Series = pandas.date_range(start=\"1/1/2020\", periods=1000)\n",
    "### pandas series from randnorm array, indexed by date series\n",
    "randnorm_series: pandas.Series = pandas.Series(data=randnorm_array, index=date_series)\n",
    "\n",
    "\n",
    "### line plot, cumulative sum of randnorm series (y-axis), randnorm series index (x-axis)\n",
    "randnorm_series.cumsum().plot();"
   ]
  },
  {
   "cell_type": "markdown",
   "metadata": {},
   "source": [
    "#### Stateless plotting from the Car Sales Dataframe"
   ]
  },
  {
   "cell_type": "code",
   "execution_count": null,
   "metadata": {},
   "outputs": [],
   "source": [
    "### importing from car sales dataset\n",
    "car_sales: pandas.DataFrame = pandas.read_csv(\"data-car-sales.csv\")\n",
    "\n",
    "### converting price column str > int\n",
    "car_sales[\"Price\"] = car_sales[\"Price\"].str.replace(\"[\\$\\,\\.]\", \"\", regex=True)\n",
    "car_sales[\"Price\"] = car_sales[\"Price\"].str[:-2] # removing decimals\n",
    "car_sales[\"Price\"] = car_sales[\"Price\"].astype(int)\n",
    "\n",
    "### creating sale date column\n",
    "date_series: pandas.Series = pandas.date_range(start=\"1/1/2020\", periods=10)\n",
    "car_sales[\"Sale Date\"] = date_series\n",
    "\n",
    "### creating total sales column\n",
    "car_sales[\"Total Sales\"] = car_sales[\"Price\"].cumsum()\n",
    "car_sales"
   ]
  },
  {
   "cell_type": "code",
   "execution_count": null,
   "metadata": {},
   "outputs": [],
   "source": [
    "### line plot, total sales column (y-axis), sale date column (x-axis)\n",
    "car_sales.plot(y=\"Total Sales\", x=\"Sale Date\", legend=False)\n",
    "\n",
    "### customizing the plot\n",
    "pyplot.title(label=\"Revenue from Car Sales\")\n",
    "pyplot.ylabel(ylabel=\"Total Sales ($)\");"
   ]
  },
  {
   "cell_type": "code",
   "execution_count": null,
   "metadata": {},
   "outputs": [],
   "source": [
    "### scatter plot, price column (y-axis), odometer column (x-axis)\n",
    "car_sales.plot.scatter(y=\"Price\", x=\"Odometer (KM)\", s=150, c=\"steelblue\")\n",
    "\n",
    "### customizing the plot\n",
    "pyplot.title(label=\"Car Sale Price and Odometer Reading\")\n",
    "pyplot.ylabel(ylabel=\"Car Sale Price ($)\")\n",
    "pyplot.xlabel(xlabel=\"Odometer (km)\")\n",
    "pyplot.xticks(rotation=45);"
   ]
  },
  {
   "cell_type": "code",
   "execution_count": null,
   "metadata": {},
   "outputs": [],
   "source": [
    "### vertical bar plot, odometer column (height), make column (x-axis)\n",
    "car_sales.plot.bar(y=\"Odometer (KM)\", x=\"Make\", legend=False)\n",
    "\n",
    "### customizing the plot\n",
    "pyplot.title(label=\"Odometer Reading and Car Make\")\n",
    "pyplot.ylabel(ylabel=\"Odometer Reading (km)\")\n",
    "pyplot.xlabel(xlabel=\"Car Make\")\n",
    "pyplot.xticks(rotation=45);"
   ]
  },
  {
   "cell_type": "code",
   "execution_count": null,
   "metadata": {},
   "outputs": [],
   "source": [
    "### histogram plot, distribution of odometer column values\n",
    "car_sales[\"Odometer (KM)\"].plot.hist(bins=10)\n",
    "\n",
    "### customizing the plot\n",
    "pyplot.title(label=\"Distribution of Odometer Readings\")\n",
    "pyplot.ylabel(ylabel=\"Value Counts\")\n",
    "pyplot.xlabel(xlabel=\"Odometer (km)\")\n",
    "pyplot.xticks(rotation=45);"
   ]
  },
  {
   "cell_type": "markdown",
   "metadata": {},
   "source": [
    "#### Stateless plotting from the Heart Disease Dataframe"
   ]
  },
  {
   "cell_type": "markdown",
   "metadata": {},
   "source": [
    "**Statistics concept**\n",
    "\n",
    "An outlier is at least 3 standard deviations away from mean."
   ]
  },
  {
   "cell_type": "code",
   "execution_count": null,
   "metadata": {},
   "outputs": [],
   "source": [
    "### importing from heart disease dataset\n",
    "heart_disease = pandas.read_csv(\"data-heart-disease.csv\")\n",
    "\n",
    "### histogram plot, distribution of age column values\n",
    "heart_disease[\"age\"].plot.hist(bins=10)\n",
    "\n",
    "### customizing the plot\n",
    "pyplot.title(label=\"Distribution of Patient Age\")\n",
    "pyplot.ylabel(ylabel=\"Patient Count\")\n",
    "pyplot.xlabel(xlabel=\"Patient Age in Years\");"
   ]
  },
  {
   "cell_type": "markdown",
   "metadata": {},
   "source": [
    "#### Object oriented plotting from the Heart Disease Dataframe (x)"
   ]
  },
  {
   "cell_type": "markdown",
   "metadata": {},
   "source": [
    "**Matplotlib concept**\n",
    "\n",
    "More advanced figures usually require object oriented plotting."
   ]
  },
  {
   "cell_type": "code",
   "execution_count": null,
   "metadata": {},
   "outputs": [],
   "source": [
    "### creating dataframe for patients of age over 50\n",
    "over_fifty = heart_disease.loc[50 < heart_disease[\"age\"]]\n",
    "over_fifty"
   ]
  },
  {
   "cell_type": "code",
   "execution_count": null,
   "metadata": {},
   "outputs": [],
   "source": [
    "### stateless scatter plot, chol column (y-axis), age column (x-axis), grouping by target column (c)\n",
    "over_fifty.plot.scatter(y=\"chol\", x=\"age\", c=\"target\", colorbar=True, figsize=(10,6))\n",
    "pyplot.legend()\n",
    "\n",
    "### customizing the plot\n",
    "pyplot.title(label=\"Cholesterol and Age in Heart Disease\")\n",
    "pyplot.ylabel(ylabel=\"Serum Cholesterol (mg/dl)\")\n",
    "pyplot.xlabel(xlabel=\"Patient Age in Years\");"
   ]
  },
  {
   "cell_type": "markdown",
   "metadata": {},
   "source": [
    "**Opinion:**  \n",
    "There is a colorbar instead of a legend.  \n",
    "When the colorbar is visible, x-axis labels disappear.  \n",
    "This plotting method does not do what I want. Let's try object oriented plotting!"
   ]
  },
  {
   "cell_type": "code",
   "execution_count": null,
   "metadata": {},
   "outputs": [],
   "source": [
    "### figure object (figure), subplot object (axis)\n",
    "figure,axis = pyplot.subplots(figsize=(10,6))\n",
    "figure: Figure; axis: pyplot.Axes\n",
    "\n",
    "### scatter plot, chol column (y-axis), age column (x-axis), grouping by target column (c)\n",
    "scatter_colors: List[str] = [\"lightblue\", \"salmon\"]\n",
    "scatter_cmap: colors.LinearSegmentedColormap = colors.LinearSegmentedColormap.from_list(\n",
    "    name=\"temp\",\n",
    "    colors=scatter_colors)\n",
    "scatter_plot = axis.scatter(y=over_fifty[\"chol\"], x=over_fifty[\"age\"], c=over_fifty[\"target\"], cmap=scatter_cmap)\n",
    "### horizontal line, mean of chol column (y-axis)\n",
    "chol_mean: float = over_fifty[\"chol\"].mean()\n",
    "hline_plot: lines.Line2D = axis.axhline(y=chol_mean, linestyle=\"--\", label=\"Label\")\n",
    "### legend\n",
    "axis_handles: List[lines.Line2D] = scatter_plot.legend_elements()[0] + axis.get_legend_handles_labels()[0]\n",
    "axis_labels: List[str] = [\n",
    "    \"Absence of Heart Disease\",\n",
    "    \"Presence of Heart Disease\",\n",
    "    f\"Chol Mean = {chol_mean:.1f} mg/dl\"]\n",
    "axis.legend(handles=axis_handles, labels=axis_labels)\n",
    "\n",
    "### customizing the plot\n",
    "axis.set_title(label=\"Cholesterol and Age in Heart Disease\")\n",
    "axis.set_ylabel(ylabel=\"Serum Cholesterol (mg/dl)\")\n",
    "axis.set_xlabel(xlabel=\"Patient Age (Years)\")\n",
    "axis.set_xlim([50,80]);"
   ]
  },
  {
   "cell_type": "markdown",
   "metadata": {},
   "source": [
    "#### Subplots plotting from the Heart Disease Dataframe"
   ]
  },
  {
   "cell_type": "code",
   "execution_count": null,
   "metadata": {},
   "outputs": [],
   "source": [
    "### importing from heart disease dataset\n",
    "heart_disease = pandas.read_csv(\"data-heart-disease.csv\")\n",
    "### creating dataframe for patients of age over 50\n",
    "over_fifty: pandas.DataFrame = heart_disease.loc[50 < heart_disease[\"age\"]]\n",
    "\n",
    "### figure object (figure), subplot objects (ax##)\n",
    "figure,(ax11,ax21) = pyplot.subplots(nrows=2, ncols=1, figsize=(10,10))\n",
    "figure: Figure\n",
    "\n",
    "### creating ax11 subplot ----------------------------------------------------------------------------------------------\n",
    "\n",
    "### scatter plot, over_fifty[chol] (y-axis), over_fifty[age] (x-axis), grouping by over_fifty[target] (c)\n",
    "ax11: pyplot.Axes\n",
    "scat11_plot = ax11.scatter(y=over_fifty[\"chol\"], x=over_fifty[\"age\"], c=over_fifty[\"target\"])\n",
    "### horizontal line, mean of over_fifty[chol] (y-axis)\n",
    "chol_mean: float = over_fifty[\"chol\"].mean()\n",
    "hl11_plot: lines.Line2D = ax11.axhline(y=chol_mean, linestyle=\"--\", label=\"Label\")\n",
    "### legend\n",
    "ax11_handles: List[lines.Line2D] = scat11_plot.legend_elements()[0] + ax11.get_legend_handles_labels()[0]\n",
    "ax11_labels: List[str] = [\n",
    "    \"Absence of Heart Disease\",\n",
    "    \"Presence of Heart Disease\",\n",
    "    f\"Chol Mean = {chol_mean:.1f} mg/dl\"]\n",
    "ax11.legend(handles=ax11_handles, labels=ax11_labels)\n",
    "\n",
    "\n",
    "### creating ax21 subplot ----------------------------------------------------------------------------------------------\n",
    "\n",
    "### scatter plot, over_fifty[thalach] (y-axis), over_fifty[age] (x-axis), grouping by over_fifty[target] (c)\n",
    "ax21: pyplot.Axes\n",
    "scat21_plot = ax21.scatter(y=over_fifty[\"thalach\"], x=over_fifty[\"age\"], c=over_fifty[\"target\"])\n",
    "### horizontal line, mean of over_fifty[thalach] (y-axis)\n",
    "thalach_mean: float = over_fifty[\"thalach\"].mean()\n",
    "hl21_plot: lines.Line2D =  ax21.axhline(y=thalach_mean, linestyle=\"--\", label=\"Label\")\n",
    "### legend\n",
    "ax21_handles: List[lines.Line2D] = scat21_plot.legend_elements()[0] + ax21.get_legend_handles_labels()[0]\n",
    "ax21_labels: List[str] = [\n",
    "    \"Absence of Heart Disease\",\n",
    "    \"Presence of Heart Disease\",\n",
    "    f\"Heart Rate Mean = {thalach_mean:.1f}/min\"]\n",
    "ax21.legend(handles=ax21_handles, labels=ax21_labels)\n",
    "\n",
    "\n",
    "### customizing the figure ---------------------------------------------------------------------------------------------\n",
    "figure.suptitle(t=\"Heart Disease Analysis\", fontsize=16, fontweight=\"bold\") # figure title\n",
    "# figure.subplots_adjust(top=0.91, hspace=0.25)\n",
    "figure.tight_layout(pad=2.5, h_pad=5)\n",
    "ax11.set_title(label=\"Cholesterol and Age in Heart Disease\")\n",
    "ax11.set_ylabel(ylabel=\"Serum Cholesterol (mg/dl)\")\n",
    "ax11.set_xlabel(xlabel=\"Patient Age (Years)\")\n",
    "ax11.set_xlim([50,80])\n",
    "ax21.set_title(label=\"Maximum Heart Rate and Age in Heart Disease\")\n",
    "ax21.set_ylabel(ylabel=\"Maximum Heart Rate (1/min)\")\n",
    "ax21.set_xlabel(xlabel=\"Patient Age (Years)\")\n",
    "ax21.set_xlim([50,80]);"
   ]
  },
  {
   "cell_type": "markdown",
   "metadata": {},
   "source": [
    "## Customizing Plots with Styles and Colormaps (x)"
   ]
  },
  {
   "cell_type": "markdown",
   "metadata": {},
   "source": [
    "#### Applying styles"
   ]
  },
  {
   "cell_type": "markdown",
   "metadata": {},
   "source": [
    "**Matplotlib styles**\n",
    "\n",
    "Collections of styling elements used for changing the appearance of entire plots.  \n",
    "See [matplotlib styles reference](https://matplotlib.org/stable/gallery/style_sheets/style_sheets_reference.html)."
   ]
  },
  {
   "cell_type": "code",
   "execution_count": null,
   "metadata": {},
   "outputs": [],
   "source": [
    "### styles available in matplotlib library\n",
    "pyplot.style.available"
   ]
  },
  {
   "cell_type": "code",
   "execution_count": null,
   "metadata": {},
   "outputs": [],
   "source": [
    "### creating random normal distribution dataframe\n",
    "normal_df = pandas.DataFrame(data=numpy.random.randn(10,4), columns=[\"a\",\"b\",\"c\",\"d\"])\n",
    "\n",
    "### changing plot style\n",
    "pyplot.style.use(\"ggplot\")\n",
    "\n",
    "### bar plot, dataframe values (y-axis), dataframe rows (x-axis), grouping by dataframe columns (legend)\n",
    "normal_df.plot.bar(figsize=(6,4))\n",
    "pyplot.legend(title=\"Columns\", loc=\"upper left\", bbox_to_anchor=(1, 0.95))\n",
    "\n",
    "### customizing the plot\n",
    "pyplot.title(label=\"Random Normal Distribution Bar Graph\")\n",
    "pyplot.ylabel(ylabel=\"Random Value\")\n",
    "pyplot.xlabel(xlabel=\"Dataframe Rows\")\n",
    "pyplot.xticks(rotation=0);"
   ]
  },
  {
   "cell_type": "markdown",
   "metadata": {},
   "source": [
    "#### Applying colormap (>>>)"
   ]
  },
  {
   "cell_type": "markdown",
   "metadata": {},
   "source": [
    "<span style=\"color:navajowhite\">\n",
    "--- matplotlib colormaps<br>\n",
    "predefined color schemes used for coloring various plot elements<br>\n",
    "see <a href=https://matplotlib.org/stable/tutorials/colors/colormaps.html>matplotlib colormap documentation</a>\n",
    "</span>"
   ]
  },
  {
   "cell_type": "code",
   "execution_count": null,
   "metadata": {},
   "outputs": [],
   "source": [
    "### preparing data -----------------------------------------------------------------------------------------------------\n",
    "\n",
    "### pandas dataframe (heart_disease), reading data from csv file\n",
    "heart_disease = pandas.read_csv(\"data-heart-disease.csv\")\n",
    "### pandas dataframe (over_fifty), contains heart_disease dataframe on condition 50 < heart_disease/age value\n",
    "over_fifty = heart_disease.loc[50 < heart_disease[\"age\"]]\n",
    "\n",
    "### creating figure ----------------------------------------------------------------------------------------------------\n",
    "\n",
    "### object oriented figure (figure), 2 subplots, row1col1 (axis11), row2col1 (axis21)\n",
    "### 2 grid rows (nrows), 1 grid columns (ncols), shared x-axis (sharex), width=10in x height=10in (figsize)\n",
    "figure, (axis11, axis21) = pyplot.subplots(nrows=2, ncols=1, sharex=True, figsize=(10,10))\n",
    "\n",
    "### plotting -----------------------------------------------------------------------------------------------------------\n",
    "\n",
    "### pyplot plot object (chol_age), contains axis11 subplot, scatter plot\n",
    "### over_fifty/chol (y) over over_fifty/age (x), categories by over_fifty/target (c), color map summer (cmap)\n",
    "chol_age = axis11.scatter(y=over_fifty[\"chol\"], x=over_fifty[\"age\"], c=over_fifty[\"target\"], cmap=\"summer\")\n",
    "### axis11 subplot, horizontal line (axhline) at mean of over_fifty/chol (y), dashed line (linestyle)\n",
    "axis11.axhline(y=over_fifty[\"chol\"].mean(), linestyle=\"--\")\n",
    "\n",
    "### pyplot plot object (thalach_age), contains axis21 subplot, scatter plot\n",
    "### over_fifty/thalach (y) over over_fifty/age (x), categories by over_fifty/target (c), color map winter (cmap)\n",
    "thalach_age = axis21.scatter(y=over_fifty[\"thalach\"], x=over_fifty[\"age\"], c=over_fifty[\"target\"], cmap=\"winter\")\n",
    "### axis21 subplot, horizontal line (axhline) at mean of over_fifty/thalach (y), dashed line (linestyle)\n",
    "axis21.axhline(y=over_fifty[\"thalach\"].mean(), linestyle=\"--\")\n",
    "\n",
    "### changing plot style\n",
    "pyplot.style.use(\"seaborn-whitegrid\")\n",
    "\n",
    "### x-axis range 50-85\n",
    "axis1.set_xlim([50,85])\n",
    "### axis2 y-axis range 60-200\n",
    "axis2.set_ylim([60,200])\n",
    "\n",
    "### figure title text and typography\n",
    "figure.suptitle(t=\"Heart Disease Analysis\", fontsize=16, fontweight=\"bold\")\n",
    "### axis1 title, y-axis legend (ylabel)\n",
    "axis1.set(title=\"Cholesterol and Heart Disease\", ylabel=\"Cholesterol\")\n",
    "### axis1 category legend, legend title\n",
    "axis1.legend(*chol_age.legend_elements(), title=\"Target\")\n",
    "### axis2 title, y-axis legend (ylabel), x-axis legend (xlabel)\n",
    "axis2.set(title=\"Max Heart Rate and Heart Disease\", ylabel=\"Max Heart Rate\", xlabel=\"Age\")\n",
    "### axis2 category legend, legend title\n",
    "axis2.legend(*thalach_age.legend_elements(), title=\"Target\")\n",
    "\n",
    "### saving and showing figure\n",
    "figure.savefig(\"heart-disease-analysis.png\")"
   ]
  }
 ],
 "metadata": {
  "kernelspec": {
   "display_name": "Python 3.8.10 ('Ztm_Code': venv)",
   "language": "python",
   "name": "python3"
  },
  "language_info": {
   "codemirror_mode": {
    "name": "ipython",
    "version": 3
   },
   "file_extension": ".py",
   "mimetype": "text/x-python",
   "name": "python",
   "nbconvert_exporter": "python",
   "pygments_lexer": "ipython3",
   "version": "3.8.10"
  },
  "orig_nbformat": 4,
  "vscode": {
   "interpreter": {
    "hash": "6d135630f3aba14e844087208813e69ab65195afd4ab5238b4ebe56330592421"
   }
  }
 },
 "nbformat": 4,
 "nbformat_minor": 2
}
