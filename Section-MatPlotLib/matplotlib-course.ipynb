{
 "cells": [
  {
   "cell_type": "markdown",
   "metadata": {},
   "source": [
    "## MatPlotLib: Python Library for Data Visualization"
   ]
  },
  {
   "cell_type": "code",
   "execution_count": null,
   "metadata": {},
   "outputs": [],
   "source": [
    "### imports\n",
    "from typing import Dict\n",
    "import numpy, pandas\n",
    "from matplotlib import pyplot\n",
    "\n",
    "### rendering plots inside this notebook\n",
    "%matplotlib inline"
   ]
  },
  {
   "cell_type": "markdown",
   "metadata": {},
   "source": [
    "## Two Ways of Plotting"
   ]
  },
  {
   "cell_type": "markdown",
   "metadata": {},
   "source": [
    "#### Stateless plotting"
   ]
  },
  {
   "cell_type": "code",
   "execution_count": null,
   "metadata": {},
   "outputs": [],
   "source": [
    "### stateless blank plot\n",
    "pyplot.plot()\n",
    "\n",
    "### displaying plot without matplotlib messages\n",
    "pyplot.show()"
   ]
  },
  {
   "cell_type": "markdown",
   "metadata": {},
   "source": [
    "**matplotlib syntax**\n",
    "\n",
    "semicolon (;) at line end substitutes `pyplot.show()`"
   ]
  },
  {
   "cell_type": "code",
   "execution_count": null,
   "metadata": {},
   "outputs": [],
   "source": [
    "### stateless line plot, [1,2,3,4] (y-axis) only\n",
    "pyplot.plot([1,2,3,4]);"
   ]
  },
  {
   "cell_type": "code",
   "execution_count": null,
   "metadata": {},
   "outputs": [],
   "source": [
    "### stateless line plot, [1,2,3,4] (x-axis), [11,22,33,44] (y-axis)\n",
    "pyplot.plot([1,2,3,4], [11,22,33,44]);"
   ]
  },
  {
   "cell_type": "markdown",
   "metadata": {},
   "source": [
    "#### Object oriented plotting"
   ]
  },
  {
   "cell_type": "markdown",
   "metadata": {},
   "source": [
    "**matplotlib concept**\n",
    "\n",
    "figure object represents entire figure with all subplots  \n",
    "axis objects represent subplots"
   ]
  },
  {
   "cell_type": "code",
   "execution_count": null,
   "metadata": {},
   "outputs": [],
   "source": [
    "### figure object (figure), subplot object (axis)\n",
    "figure,axis = pyplot.subplots()\n",
    "\n",
    "### line plot, [1,2,3,4] (x-axis), [11,22,33,44] (y-axis)\n",
    "axis.plot([1,2,3,4], [11,22,33,44]);"
   ]
  },
  {
   "cell_type": "markdown",
   "metadata": {},
   "source": [
    "## Matplotlib Workflow"
   ]
  },
  {
   "cell_type": "markdown",
   "metadata": {},
   "source": [
    "**matplotlib workflow steps**\n",
    "* preparing data\n",
    "* creating figure (object oriented plotting)\n",
    "* plotting data\n",
    "* customizing plot\n",
    "* saving figure"
   ]
  },
  {
   "cell_type": "code",
   "execution_count": null,
   "metadata": {},
   "outputs": [],
   "source": [
    "### preparing data\n",
    "ydata = [11,22,33,44]\n",
    "xdata = [1,2,3,4]\n",
    "\n",
    "### creating figure, figure object (figure), subplot object (axis), with=5inch x height=5inch (figsize)\n",
    "figure,axis = pyplot.subplots(figsize=(5,5))\n",
    "\n",
    "### plotting data, line plot, xdata (x-axis), ydata (y-axis)\n",
    "axis.plot(xdata, ydata)\n",
    "\n",
    "### customizing subplot, subplot title (title), y-axis legend (ylabel), x-axis legend (xlabel)\n",
    "axis.set(\n",
    "    title = \"Sample Plot\",\n",
    "    ylabel = \"y-Axis\",\n",
    "    xlabel = \"x-Axis\")\n",
    "\n",
    "### saving figure\n",
    "figure.savefig(fname=\"plot-sample.png\")"
   ]
  },
  {
   "cell_type": "markdown",
   "metadata": {},
   "source": [
    "**matplotlib syntax**\n",
    "\n",
    "`figure.savefig()` also substitutes `pyplot.show()`"
   ]
  },
  {
   "cell_type": "markdown",
   "metadata": {},
   "source": [
    "## Plotting from NumPy: Plot Types"
   ]
  },
  {
   "cell_type": "markdown",
   "metadata": {},
   "source": [
    "#### Line plots"
   ]
  },
  {
   "cell_type": "code",
   "execution_count": null,
   "metadata": {},
   "outputs": [],
   "source": [
    "### numpy linear array (linspace_array), contains 100 numbers (num)\n",
    "linspace_array = numpy.linspace(\n",
    "    start=0,\n",
    "    stop=10,\n",
    "    num=100)\n",
    "\n",
    "### figure object (figure), subplot object (axis)\n",
    "figure,axis = pyplot.subplots()\n",
    "\n",
    "### line plot, linspace_array (x-axis), linspace_array squared (y-axis)\n",
    "axis.plot(linspace_array, linspace_array**2);"
   ]
  },
  {
   "cell_type": "markdown",
   "metadata": {},
   "source": [
    "#### Scatter plots"
   ]
  },
  {
   "cell_type": "code",
   "execution_count": null,
   "metadata": {},
   "outputs": [],
   "source": [
    "### numpy linear array (linspace_array), contains 100 numbers (num)\n",
    "linspace_array = numpy.linspace(\n",
    "    start=0,\n",
    "    stop=10,\n",
    "    num=100)\n",
    "\n",
    "### figure object (figure), subplot object (axis)\n",
    "figure,axis = pyplot.subplots()\n",
    "\n",
    "### scatter plot, sine of linspace_array (y-axis), linspace_array (x-axis)\n",
    "axis.scatter(\n",
    "    y=numpy.sin(linspace_array),\n",
    "    x=linspace_array);"
   ]
  },
  {
   "cell_type": "markdown",
   "metadata": {},
   "source": [
    "#### Bar plots"
   ]
  },
  {
   "cell_type": "code",
   "execution_count": null,
   "metadata": {},
   "outputs": [],
   "source": [
    "### dictionary data\n",
    "butter_prices = {\n",
    "    \"Almond Butter\": 10,\n",
    "    \"Peanut Butter\": 8,\n",
    "    \"Cashew Butter\": 12}\n",
    "butter_prices"
   ]
  },
  {
   "cell_type": "code",
   "execution_count": null,
   "metadata": {},
   "outputs": [],
   "source": [
    "### figure object (figure), subplot object (axis)\n",
    "figure,axis = pyplot.subplots()\n",
    "\n",
    "### vertical bar plot, dictionary values (height), dictionary keys (x-axis)\n",
    "axis.bar(\n",
    "    height=butter_prices.values(),\n",
    "    x=list(butter_prices.keys()))\n",
    "\n",
    "### customizing subplot, subplot title (title), y-axis legend (ylabel)\n",
    "axis.set(\n",
    "    title=\"Nut Butter Store Prices\",\n",
    "    ylabel=\"Price ($)\");"
   ]
  },
  {
   "cell_type": "code",
   "execution_count": null,
   "metadata": {},
   "outputs": [],
   "source": [
    "### figure object (figure), subplot object (axis)\n",
    "figure,axis = pyplot.subplots()\n",
    "\n",
    "### horizontal bar plot, dictionary keys (y-axis), dictionary values (width)\n",
    "axis.barh(\n",
    "    y=list(butter_prices.keys()),\n",
    "    width=butter_prices.values())\n",
    "\n",
    "### customizing subplot, subplot title (title), x-axis legend (xlabel)\n",
    "axis.set(\n",
    "    title=\"Nut Butter Store Prices\",\n",
    "    xlabel=\"Price ($)\");"
   ]
  },
  {
   "cell_type": "markdown",
   "metadata": {},
   "source": [
    "#### Histogram plots"
   ]
  },
  {
   "cell_type": "markdown",
   "metadata": {},
   "source": [
    "**histogram plot concept**\n",
    "\n",
    "histogram plots display the probability distribution of a dataset  \n",
    "first, the dataset entire span (max value - min value) is divided into equally sized ranges (bins)  \n",
    "heights of histogram columns represent the number of items within each bin"
   ]
  },
  {
   "cell_type": "code",
   "execution_count": null,
   "metadata": {},
   "outputs": [],
   "source": [
    "### numpy random normal distribution (randn_array), contains 1000 numbers\n",
    "randn_array: numpy.ndarray = numpy.random.randn(1000)\n",
    "\n",
    "### figure object (figure), subplot object (axis)\n",
    "figure,axis = pyplot.subplots()\n",
    "figure: pyplot.Figure; axis: pyplot.Axes\n",
    "\n",
    "### histogram plot, number of items (y-axis), randn_array bins (x-axis)\n",
    "axis.hist(x=randn_array);"
   ]
  },
  {
   "cell_type": "markdown",
   "metadata": {},
   "source": [
    "#### Subplots: Option 1"
   ]
  },
  {
   "cell_type": "code",
   "execution_count": null,
   "metadata": {},
   "outputs": [],
   "source": [
    "### numpy linear array (linspace_array), contains 100 numbers (num)\n",
    "linspace_array: numpy.ndarray = numpy.linspace(\n",
    "    start=0,\n",
    "    stop=10,\n",
    "    num=100)\n",
    "\n",
    "### dictionary data\n",
    "butter_prices: Dict[str,int] = {\n",
    "    \"Almond Butter\": 10,\n",
    "    \"Peanut Butter\": 8,\n",
    "    \"Cashew Butter\": 12}\n",
    "\n",
    "### numpy random normal distribution array (randn_array), contains 1000 numbers\n",
    "randn_array: numpy.ndarray = numpy.random.randn(1000)\n",
    "\n",
    "### figure object (figure), subplot objects tuple (ax-row-column)\n",
    "### grid rows (nrows), grid columns (ncols), (width,height) in inches (figsize)\n",
    "figure,((ax11,ax12),(ax21,ax22)) = pyplot.subplots(\n",
    "    nrows=2,\n",
    "    ncols=2,\n",
    "    figsize=(10,7))\n",
    "figure: pyplot.Figure\n",
    "\n",
    "### line plot (ax11), linspace_array (x-axis), linspace_array squared (y-axis)\n",
    "ax11: pyplot.Axes\n",
    "ax11.plot(linspace_array, linspace_array**2)\n",
    "\n",
    "### numpy random array (rand), contains 10 numbers\n",
    "### scatter plot (ax12), numpy random array (y-axis), numpy random array (x-axis)\n",
    "ax12: pyplot.Axes\n",
    "ax12.scatter(\n",
    "    y=numpy.random.rand(10),\n",
    "    x=numpy.random.rand(10))\n",
    "\n",
    "### vertical bar plot (ax21), dictionary values (height), dictionary keys (x-axis)\n",
    "ax21: pyplot.Axes\n",
    "ax21.bar(\n",
    "    height=butter_prices.values(),\n",
    "    x=list(butter_prices.keys()))\n",
    "\n",
    "### histogram plot (ax22), number of items (y-axis), numpy random normal distribution array bins (x-axis)\n",
    "ax22: pyplot.Axes\n",
    "ax22.hist(x=randn_array);"
   ]
  },
  {
   "cell_type": "markdown",
   "metadata": {},
   "source": [
    "#### Subplots: Option 2"
   ]
  },
  {
   "cell_type": "code",
   "execution_count": null,
   "metadata": {},
   "outputs": [],
   "source": [
    "### numpy linearly spaced array (linspace_array), contains 100 numbers (num)\n",
    "linspace_array: numpy.ndarray = numpy.linspace(\n",
    "    start=0,\n",
    "    stop=10,\n",
    "    num=100)\n",
    "\n",
    "### butter prices dictionary\n",
    "butter_prices: Dict[str,int] = {\n",
    "    \"Almond Butter\": 10,\n",
    "    \"Peanut Butter\": 8,\n",
    "    \"Cashew Butter\": 12}\n",
    "\n",
    "### numpy random normal distribution array (randnorm_array), contains 1000 numbers\n",
    "randnorm_array: numpy.ndarray = numpy.random.randn(1000)\n",
    "\n",
    "### figure object (figure), subplot objects 2x2 numpy array (axes), (width,height) in inches (figsize)\n",
    "figure,axes = pyplot.subplots(\n",
    "    nrows=2,\n",
    "    ncols=2,\n",
    "    figsize=(10,7))\n",
    "figure: pyplot.Figure; axes: numpy.ndarray\n",
    "\n",
    "### line plot (axes[0,0]), linearly spaced array (x-axis), linearly spaced array squared (y-axis)\n",
    "axes[0,0].plot(linspace_array, linspace_array**2)\n",
    "\n",
    "### numpy random numbers (0-1) array (rand), contains 10 numbers\n",
    "### scatter plot (axes[0,1]), random numbers array (y-axis), random numbers array (x-axis)\n",
    "axes[0,1].scatter(\n",
    "    y=numpy.random.rand(10),\n",
    "    x=numpy.random.rand(10))\n",
    "\n",
    "### horizontal bar plot (axes[1,0]), butter prices values (height), butter prices keys (x-axis)\n",
    "axes[1,0].bar(\n",
    "    height=butter_prices.values(),\n",
    "    x=list(butter_prices.keys()))\n",
    "\n",
    "### histogram plot (axes[1,1]), number of items (y-axis), random normal distribution array bins (x-axis)\n",
    "axes[1,1].hist(x=randn_array);"
   ]
  },
  {
   "cell_type": "markdown",
   "metadata": {},
   "source": [
    "**Opinion:**  \n",
    "I personally do not like this subplots option 2.  \n",
    "Despite my best efforts, I am unable to make VsCode recognize the content type of `axes` variable."
   ]
  },
  {
   "cell_type": "markdown",
   "metadata": {},
   "source": [
    "## Plotting from Pandas (x)"
   ]
  },
  {
   "cell_type": "markdown",
   "metadata": {},
   "source": [
    "#### Stateless plotting from random series"
   ]
  },
  {
   "cell_type": "code",
   "execution_count": null,
   "metadata": {},
   "outputs": [],
   "source": [
    "### numpy random normal distribution array with 1000 numbers\n",
    "randnorm_array: numpy.ndarray = numpy.random.randn(1000)\n",
    "### pandas series of dates with 1000 dates\n",
    "date_series: pandas.Series = pandas.date_range(start=\"1/1/2020\", periods=1000)\n",
    "### pandas series from randnorm array, indexed by date series\n",
    "randnorm_series: pandas.Series = pandas.Series(data=randnorm_array, index=date_series)\n",
    "\n",
    "\n",
    "### line plot, cumulative sum of randnorm series (y-axis), randnorm series index (x-axis)\n",
    "randnorm_series.cumsum().plot();"
   ]
  },
  {
   "cell_type": "markdown",
   "metadata": {},
   "source": [
    "#### Stateless plotting from the Car Sales Dataframe"
   ]
  },
  {
   "cell_type": "code",
   "execution_count": null,
   "metadata": {},
   "outputs": [],
   "source": [
    "### importing from car sales dataset\n",
    "car_sales: pandas.DataFrame = pandas.read_csv(\"data-car-sales.csv\")\n",
    "\n",
    "### converting price column str > int\n",
    "car_sales[\"Price\"] = car_sales[\"Price\"].str.replace(\"[\\$\\,\\.]\", \"\", regex=True)\n",
    "car_sales[\"Price\"] = car_sales[\"Price\"].str[:-2] # removing decimals\n",
    "car_sales[\"Price\"] = car_sales[\"Price\"].astype(int)\n",
    "\n",
    "### creating sale date column\n",
    "date_series: pandas.Series = pandas.date_range(start=\"1/1/2020\", periods=10)\n",
    "car_sales[\"Sale Date\"] = date_series\n",
    "\n",
    "### creating total sales column\n",
    "car_sales[\"Total Sales\"] = car_sales[\"Price\"].cumsum()\n",
    "car_sales"
   ]
  },
  {
   "cell_type": "code",
   "execution_count": null,
   "metadata": {},
   "outputs": [],
   "source": [
    "### line plot, total sales column (y-axis), sale date column (x-axis)\n",
    "car_sales.plot(y=\"Total Sales\", x=\"Sale Date\", legend=False)\n",
    "\n",
    "### customizing the plot\n",
    "pyplot.title(label=\"Revenue from Car Sales\")\n",
    "pyplot.ylabel(ylabel=\"Total Sales ($)\");"
   ]
  },
  {
   "cell_type": "code",
   "execution_count": null,
   "metadata": {},
   "outputs": [],
   "source": [
    "### scatter plot, price column (y-axis), odometer column (x-axis)\n",
    "car_sales.plot.scatter(y=\"Price\", x=\"Odometer (KM)\", s=150, c=\"steelblue\")\n",
    "\n",
    "### customizing the plot\n",
    "pyplot.title(label=\"Car Sale Price and Odometer Reading\")\n",
    "pyplot.ylabel(ylabel=\"Car Sale Price ($)\")\n",
    "pyplot.xlabel(xlabel=\"Odometer (km)\")\n",
    "pyplot.xticks(rotation=45);"
   ]
  },
  {
   "cell_type": "code",
   "execution_count": null,
   "metadata": {},
   "outputs": [],
   "source": [
    "### vertical bar plot, odometer column (height), make column (x-axis)\n",
    "car_sales.plot.bar(y=\"Odometer (KM)\", x=\"Make\", legend=False)\n",
    "\n",
    "### customizing the plot\n",
    "pyplot.title(label=\"Odometer Reading and Car Make\")\n",
    "pyplot.ylabel(ylabel=\"Odometer Reading (km)\")\n",
    "pyplot.xlabel(xlabel=\"Car Make\")\n",
    "pyplot.xticks(rotation=45);"
   ]
  },
  {
   "cell_type": "code",
   "execution_count": null,
   "metadata": {},
   "outputs": [],
   "source": [
    "### histogram plot, distribution of odometer column values\n",
    "car_sales[\"Odometer (KM)\"].plot.hist(bins=10)\n",
    "\n",
    "### customizing the plot\n",
    "pyplot.title(label=\"Distribution of Odometer Readings\")\n",
    "pyplot.ylabel(ylabel=\"Value Counts\")\n",
    "pyplot.xlabel(xlabel=\"Odometer (km)\")\n",
    "pyplot.xticks(rotation=45);"
   ]
  },
  {
   "cell_type": "markdown",
   "metadata": {},
   "source": [
    "#### Stateless plotting from the Heart Disease Dataframe (x)"
   ]
  },
  {
   "cell_type": "markdown",
   "metadata": {},
   "source": [
    "**statistics concept**\n",
    "\n",
    "An outlier is at least 3 standard deviations away from mean."
   ]
  },
  {
   "cell_type": "code",
   "execution_count": null,
   "metadata": {},
   "outputs": [],
   "source": [
    "### importing from heart disease dataset\n",
    "heart_disease = pandas.read_csv(\"data-heart-disease.csv\")\n",
    "\n",
    "### histogram plot, distribution of age column values\n",
    "heart_disease[\"age\"].plot.hist(bins=10)\n",
    "\n",
    "### customizing the plot\n",
    "pyplot.title(label=\"Distribution of Patient Age\")\n",
    "pyplot.ylabel(ylabel=\"Patient Count\")\n",
    "pyplot.xlabel(xlabel=\"Patient Age in Years\");"
   ]
  },
  {
   "cell_type": "markdown",
   "metadata": {},
   "source": [
    "#### Plotting from heart disease dataframe - Object oriented (x)"
   ]
  },
  {
   "cell_type": "markdown",
   "metadata": {},
   "source": [
    "<span style=\"color:navajowhite\">\n",
    "--- matplotlib concept<br>\n",
    "object oriented plotting should be used for more advanced figures\n",
    "</span>"
   ]
  },
  {
   "cell_type": "code",
   "execution_count": null,
   "metadata": {},
   "outputs": [],
   "source": [
    "### pandas dataframe (over_fifty), contains rows of heart_disease dataframe wherein 50 < \"age\" column value\n",
    "over_fifty = heart_disease.loc[50 < heart_disease[\"age\"]]\n",
    "### pandas stateless scatter plot, \"chol\" column (y) over \"age\" column (x), categories by \"target\" column (c)\n",
    "over_fifty.plot.scatter(y=\"chol\", x=\"age\", c=\"target\");"
   ]
  },
  {
   "cell_type": "code",
   "execution_count": null,
   "metadata": {},
   "outputs": [],
   "source": [
    "### object oriented figure (figure), one subplot (axis), width=10in x height=6in (figsize)\n",
    "figure, axis = pyplot.subplots(figsize=(10,6))\n",
    "\n",
    "### pyplot plot object (chol_age), contains \"axis\" subplot\n",
    "### scatter plot, \"chol\" column (y) over \"age\" column (x), categories by \"target\" column (c)\n",
    "chol_age = axis.scatter(y=over_fifty[\"chol\"], x=over_fifty[\"age\"], c=over_fifty[\"target\"])\n",
    "### \"axis\" subplot, horizontal line (axhline) at mean of \"chol\" column (y), dashed line (linestyle)\n",
    "axis.axhline(y=over_fifty[\"chol\"].mean(), linestyle=\"--\")\n",
    "\n",
    "### \"axis\" subplot, setting x-axis range (set_xlim)\n",
    "axis.set_xlim([45,85])\n",
    "\n",
    "### \"axis\" subplot, setting labels, subplot title (title), y-axis legend (ylabel), x-axis legend (xlabel)\n",
    "axis.set(title=\"Cholesterol and Heart Disease\", ylabel=\"Cholesterol\", xlabel=\"Age\")\n",
    "### \"axis\" subplot, category legend\n",
    "### categories (legend_elements) taken from plot object (*chol_age), setting legend title (title)\n",
    "axis.legend(*chol_age.legend_elements(), title=\"Target\");"
   ]
  },
  {
   "cell_type": "markdown",
   "metadata": {},
   "source": [
    "#### Plotting from heart disease dataframe - Subplots (x)"
   ]
  },
  {
   "cell_type": "code",
   "execution_count": null,
   "metadata": {},
   "outputs": [],
   "source": [
    "### object oriented figure (figure), two subplots (axis), row1col1 (axis11), row2col1 (axis21)\n",
    "### two grid rows (nrows), one grid columns (ncols), shared x-axis (sharex), width=10in x height=10in (figsize)\n",
    "figure, (axis11, axis21) = pyplot.subplots(nrows=2, ncols=1, sharex=True, figsize=(10,10))\n",
    "\n",
    "### pyplot plot object (chol_age), contains axis11 subplot\n",
    "### scatter plot, over_fifty/chol (y) over over_fifty/age (x), categories by over_fifty/target (c)\n",
    "chol_age = axis11.scatter(y=over_fifty[\"chol\"], x=over_fifty[\"age\"], c=over_fifty[\"target\"])\n",
    "### axis11 subplot, horizontal line (axhline) at mean of over_fifty/chol (y), dashed line (linestyle)\n",
    "axis11.axhline(y=over_fifty[\"chol\"].mean(), linestyle=\"--\")\n",
    "### pyplot plot object (thalach_age), contains axis21 subplot\n",
    "### scatter plot, over_fifty/thalach (y) over over_fifty/age (x), categories by over_fifty/target (c)\n",
    "thalach_age = axis21.scatter(y=over_fifty[\"thalach\"], x=over_fifty[\"age\"], c=over_fifty[\"target\"])\n",
    "### axis21 subplot, horizontal line (axhline) at mean of over_fifty/thalach (y), dashed line (linestyle)\n",
    "axis21.axhline(y=over_fifty[\"thalach\"].mean(), linestyle=\"--\")\n",
    "\n",
    "### all subplots, setting x-axis range (set-xlim)\n",
    "axis21.set_xlim([45,85])\n",
    "\n",
    "### figure title (suptitle) text (t) and typography (fontsize, fontweight)\n",
    "figure.suptitle(t=\"Heart Disease Analysis\", fontsize=16, fontweight=\"bold\")\n",
    "### axis11 subplot, category legend\n",
    "### categories (legend_elements) taken from plot object (*chol_age), setting legend title (title)\n",
    "axis11.legend(*chol_age.legend_elements(), title=\"Target\")\n",
    "### axis11 subplot, setting labels, subplot title (title), y-axis legend (ylabel)\n",
    "axis11.set(title=\"Cholesterol and Heart Disease\", ylabel=\"Cholesterol\")\n",
    "### axis21 subplot, category legend\n",
    "### categories (legend_elements) taken from plot object (*thalach_age), setting legend title (title)\n",
    "axis21.legend(*thalach_age.legend_elements(), title=\"Target\");\n",
    "### axis21 subplot, setting labels, subplot title (title), y-axis legend (ylabel), x-axis legend (xlabel)\n",
    "axis21.set(title=\"Max Heart Rate and Heart Disease\", ylabel=\"Max Heart Rate\", xlabel=\"Age\")"
   ]
  },
  {
   "cell_type": "markdown",
   "metadata": {},
   "source": [
    "## Customizing Plots / Styles / Colormaps (x)"
   ]
  },
  {
   "cell_type": "markdown",
   "metadata": {},
   "source": [
    "#### Applying style (x)"
   ]
  },
  {
   "cell_type": "markdown",
   "metadata": {},
   "source": [
    "<span style=\"color:navajowhite\">\n",
    "--- matplotlib styles<br>\n",
    "predefined styling elements used for defining appearance of entire plots<br>\n",
    "see <a href=https://matplotlib.org/stable/gallery/style_sheets/style_sheets_reference.html>matplotlib styles</a>\n",
    "</span>"
   ]
  },
  {
   "cell_type": "code",
   "execution_count": null,
   "metadata": {},
   "outputs": [],
   "source": [
    "### styles available in matplotlib library\n",
    "pyplot.style.available"
   ]
  },
  {
   "cell_type": "code",
   "execution_count": null,
   "metadata": {},
   "outputs": [],
   "source": [
    "### numpy normally distributed random matrix (plot_array), 10 rows, 4 columns\n",
    "plot_array = numpy.random.randn(10, 4)\n",
    "### pandas dataframe (plot_df), contains plot_array (data), setting column names (columns)\n",
    "plot_df = pandas.DataFrame(data=plot_array, columns=[\"a\",\"b\",\"c\",\"d\"])\n",
    "\n",
    "### changing plot style\n",
    "pyplot.style.use(\"ggplot\")\n",
    "\n",
    "### pandas stateless bar plot, plot_df/values (y-axis) over plot_df/index (x-axis), categories by plot_df/columns\n",
    "axis = plot_df.plot.bar()\n",
    "\n",
    "### toggling plot category legend (set_visible)\n",
    "axis.legend().set_visible(True)\n",
    "\n",
    "### setting labels, plot title (title), y-axis legend (ylabel), x-axis legend (xlabel)\n",
    "axis.set(title=\"Random Number Bar Graph\", ylabel=\"Random Number\", xlabel=\"Index\");"
   ]
  },
  {
   "cell_type": "markdown",
   "metadata": {},
   "source": [
    "#### Applying colormap (>>>)"
   ]
  },
  {
   "cell_type": "markdown",
   "metadata": {},
   "source": [
    "<span style=\"color:navajowhite\">\n",
    "--- matplotlib colormaps<br>\n",
    "predefined color schemes used for coloring various plot elements<br>\n",
    "see <a href=https://matplotlib.org/stable/tutorials/colors/colormaps.html>matplotlib colormap documentation</a>\n",
    "</span>"
   ]
  },
  {
   "cell_type": "code",
   "execution_count": null,
   "metadata": {},
   "outputs": [],
   "source": [
    "### preparing data -----------------------------------------------------------------------------------------------------\n",
    "\n",
    "### pandas dataframe (heart_disease), reading data from csv file\n",
    "heart_disease = pandas.read_csv(\"data-heart-disease.csv\")\n",
    "### pandas dataframe (over_fifty), contains heart_disease dataframe on condition 50 < heart_disease/age value\n",
    "over_fifty = heart_disease.loc[50 < heart_disease[\"age\"]]\n",
    "\n",
    "### creating figure ----------------------------------------------------------------------------------------------------\n",
    "\n",
    "### object oriented figure (figure), 2 subplots, row1col1 (axis11), row2col1 (axis21)\n",
    "### 2 grid rows (nrows), 1 grid columns (ncols), shared x-axis (sharex), width=10in x height=10in (figsize)\n",
    "figure, (axis11, axis21) = pyplot.subplots(nrows=2, ncols=1, sharex=True, figsize=(10,10))\n",
    "\n",
    "### plotting -----------------------------------------------------------------------------------------------------------\n",
    "\n",
    "### pyplot plot object (chol_age), contains axis11 subplot, scatter plot\n",
    "### over_fifty/chol (y) over over_fifty/age (x), categories by over_fifty/target (c), color map summer (cmap)\n",
    "chol_age = axis11.scatter(y=over_fifty[\"chol\"], x=over_fifty[\"age\"], c=over_fifty[\"target\"], cmap=\"summer\")\n",
    "### axis11 subplot, horizontal line (axhline) at mean of over_fifty/chol (y), dashed line (linestyle)\n",
    "axis11.axhline(y=over_fifty[\"chol\"].mean(), linestyle=\"--\")\n",
    "\n",
    "### pyplot plot object (thalach_age), contains axis21 subplot, scatter plot\n",
    "### over_fifty/thalach (y) over over_fifty/age (x), categories by over_fifty/target (c), color map winter (cmap)\n",
    "thalach_age = axis21.scatter(y=over_fifty[\"thalach\"], x=over_fifty[\"age\"], c=over_fifty[\"target\"], cmap=\"winter\")\n",
    "### axis21 subplot, horizontal line (axhline) at mean of over_fifty/thalach (y), dashed line (linestyle)\n",
    "axis21.axhline(y=over_fifty[\"thalach\"].mean(), linestyle=\"--\")\n",
    "\n",
    "### changing plot style\n",
    "pyplot.style.use(\"seaborn-whitegrid\")\n",
    "\n",
    "### x-axis range 50-85\n",
    "axis1.set_xlim([50,85])\n",
    "### axis2 y-axis range 60-200\n",
    "axis2.set_ylim([60,200])\n",
    "\n",
    "### figure title text and typography\n",
    "figure.suptitle(t=\"Heart Disease Analysis\", fontsize=16, fontweight=\"bold\")\n",
    "### axis1 title, y-axis legend (ylabel)\n",
    "axis1.set(title=\"Cholesterol and Heart Disease\", ylabel=\"Cholesterol\")\n",
    "### axis1 category legend, legend title\n",
    "axis1.legend(*chol_age.legend_elements(), title=\"Target\")\n",
    "### axis2 title, y-axis legend (ylabel), x-axis legend (xlabel)\n",
    "axis2.set(title=\"Max Heart Rate and Heart Disease\", ylabel=\"Max Heart Rate\", xlabel=\"Age\")\n",
    "### axis2 category legend, legend title\n",
    "axis2.legend(*thalach_age.legend_elements(), title=\"Target\")\n",
    "\n",
    "### saving and showing figure\n",
    "figure.savefig(\"heart-disease-analysis.png\")"
   ]
  }
 ],
 "metadata": {
  "kernelspec": {
   "display_name": "Python 3.8.10 ('Ztm_Code': venv)",
   "language": "python",
   "name": "python3"
  },
  "language_info": {
   "codemirror_mode": {
    "name": "ipython",
    "version": 3
   },
   "file_extension": ".py",
   "mimetype": "text/x-python",
   "name": "python",
   "nbconvert_exporter": "python",
   "pygments_lexer": "ipython3",
   "version": "3.8.10"
  },
  "orig_nbformat": 4,
  "vscode": {
   "interpreter": {
    "hash": "6d135630f3aba14e844087208813e69ab65195afd4ab5238b4ebe56330592421"
   }
  }
 },
 "nbformat": 4,
 "nbformat_minor": 2
}
