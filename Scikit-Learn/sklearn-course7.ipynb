{
 "cells": [
  {
   "cell_type": "markdown",
   "metadata": {},
   "source": [
    "## Scikit-Learn (Sklearn) Course"
   ]
  },
  {
   "cell_type": "markdown",
   "metadata": {},
   "source": [
    "<span>\n",
    "0. sklearn workflow overview<br>\n",
    "1. preparing data (exploring, cleaning, transforming, reducing, splitting)<br>\n",
    "2. selecting the machine learning model / algorithm<br>\n",
    "3. training the algorithm and making predictions<br>\n",
    "4. evaluating the algorithm<br>\n",
    "5. improving the model<br>\n",
    "6. saving and loading the algorithm<br>\n",
    "<span style=\"color:orange\">7. putting it all together</span>\n",
    "</span>"
   ]
  },
  {
   "cell_type": "markdown",
   "metadata": {},
   "source": [
    "## 7. Putting It All Together"
   ]
  },
  {
   "cell_type": "markdown",
   "metadata": {},
   "source": [
    "#### General concepts"
   ]
  },
  {
   "cell_type": "markdown",
   "metadata": {},
   "source": [
    "--- sklearn pipeline class  \n",
    "pipeline is a tool to combine the transforming and the training steps of modeling  \n",
    "a pipeline may contain several transforming steps and a final training step  "
   ]
  },
  {
   "cell_type": "markdown",
   "metadata": {},
   "source": [
    "#### Preparing data"
   ]
  },
  {
   "cell_type": "code",
   "execution_count": null,
   "metadata": {},
   "outputs": [],
   "source": [
    "### imports\n",
    "\n",
    "import numpy, pandas\n",
    "\n",
    "from sklearn.pipeline import Pipeline\n",
    "from sklearn.impute import SimpleImputer\n",
    "from sklearn.preprocessing import OneHotEncoder\n",
    "from sklearn.compose import ColumnTransformer"
   ]
  },
  {
   "cell_type": "code",
   "execution_count": null,
   "metadata": {},
   "outputs": [],
   "source": [
    "### preparing data\n",
    "\n",
    "### loading extended car sales data with missing values\n",
    "car_sales = pandas.read_csv(\"data-car-sales-missing.csv\")\n",
    "\n",
    "### deleting rows with missing targets (price column)\n",
    "car_sales = car_sales.dropna(subset=[\"Price\"])\n",
    "\n",
    "### splitting data / features <> target\n",
    "features = car_sales.drop(columns=\"Price\")\n",
    "target = car_sales.loc[:, \"Price\"]"
   ]
  },
  {
   "cell_type": "code",
   "execution_count": null,
   "metadata": {},
   "outputs": [],
   "source": [
    "### preprocessing data\n",
    "\n",
    "### defining category pipeline\n",
    "categorical_features = [\"Make\", \"Colour\"]\n",
    "categorical_transformer = Pipeline(steps=[\n",
    "    (\"imputer\", SimpleImputer(strategy=\"constant\", fill_value=\"missing\")),\n",
    "    (\"onehot\", OneHotEncoder(handle_unknown=\"ignore\"))])\n",
    "\n",
    "### defining doors pipeline\n",
    "doors_feature = [\"Doors\"]\n",
    "doors_transformer = Pipeline(steps=[\n",
    "    (\"imputer\", SimpleImputer(strategy=\"constant\", fill_value=4.0))])\n",
    "\n",
    "### defining odometer pipeline\n",
    "odometer_feature = [\"Odometer (KM)\"]\n",
    "odometer_transformer = Pipeline(steps=[\n",
    "    (\"imputer\", SimpleImputer(strategy=\"mean\"))])\n",
    "\n",
    "### defining preprocessor\n",
    "preprocessor = ColumnTransformer(transformers=[\n",
    "    (\"categorical\", categorical_transformer, categorical_features),\n",
    "    (\"doors\", doors_transformer, doors_feature),\n",
    "    (\"odometer\", odometer_transformer, odometer_feature)])\n"
   ]
  },
  {
   "cell_type": "markdown",
   "metadata": {},
   "source": [
    "#### Selecting, training, and evaluating the algorithm"
   ]
  },
  {
   "cell_type": "code",
   "execution_count": null,
   "metadata": {},
   "outputs": [],
   "source": [
    "### imports\n",
    "from sklearn.ensemble import RandomForestRegressor\n",
    "from sklearn.model_selection import cross_val_score"
   ]
  },
  {
   "cell_type": "code",
   "execution_count": null,
   "metadata": {},
   "outputs": [],
   "source": [
    "### modeling\n",
    "\n",
    "### defining modeling pipeline\n",
    "regressor = Pipeline(steps=[\n",
    "    (\"preprocessor\", preprocessor),\n",
    "    (\"model\", RandomForestRegressor(n_jobs=-1))])\n",
    "\n",
    "### training and scoring algorithm\n",
    "numpy.random.seed(42)\n",
    "cross_val_score(estimator=regressor, X=features, y=target, cv=5, scoring=\"r2\").mean()"
   ]
  },
  {
   "cell_type": "markdown",
   "metadata": {},
   "source": [
    "#### Improving the model"
   ]
  },
  {
   "cell_type": "code",
   "execution_count": null,
   "metadata": {},
   "outputs": [],
   "source": [
    "### imports\n",
    "from sklearn.model_selection import GridSearchCV"
   ]
  },
  {
   "cell_type": "code",
   "execution_count": null,
   "metadata": {},
   "outputs": [],
   "source": [
    "### running brute force grid search\n",
    "\n",
    "### creating search grid\n",
    "search_grid = {\n",
    "    \"preprocessor__odometer__imputer__strategy\": [\"mean\", \"median\"],\n",
    "    \"model__max_depth\": [None, 5],\n",
    "    \"model__max_features\": [\"sqrt\"],\n",
    "    \"model__min_samples_leaf\": [1, 2],\n",
    "    \"model__min_samples_split\": [2, 4],\n",
    "    \"model__n_estimators\": [100, 1000]}\n",
    "\n",
    "### creating grid search object\n",
    "regressor_gscv = GridSearchCV(estimator=regressor, param_grid=search_grid, cv=5, verbose=True)\n",
    "\n",
    "### training grid search object\n",
    "numpy.random.seed(42)\n",
    "regressor_gscv.fit(X=features, y=target);"
   ]
  },
  {
   "cell_type": "code",
   "execution_count": null,
   "metadata": {},
   "outputs": [],
   "source": [
    "### reading best parameters\n",
    "regressor_gscv.best_params_"
   ]
  },
  {
   "cell_type": "code",
   "execution_count": null,
   "metadata": {},
   "outputs": [],
   "source": [
    "### evaluating best estimator\n",
    "regressor_best = regressor_gscv.best_estimator_\n",
    "numpy.random.seed(42)\n",
    "cross_val_score(estimator=regressor_best, X=features, y=target, cv=5, scoring=\"r2\").mean()"
   ]
  }
 ],
 "metadata": {
  "kernelspec": {
   "display_name": "Python 3.8.10 ('Ztm_Code': venv)",
   "language": "python",
   "name": "python3"
  },
  "language_info": {
   "codemirror_mode": {
    "name": "ipython",
    "version": 3
   },
   "file_extension": ".py",
   "mimetype": "text/x-python",
   "name": "python",
   "nbconvert_exporter": "python",
   "pygments_lexer": "ipython3",
   "version": "3.8.10"
  },
  "orig_nbformat": 4,
  "vscode": {
   "interpreter": {
    "hash": "6d135630f3aba14e844087208813e69ab65195afd4ab5238b4ebe56330592421"
   }
  }
 },
 "nbformat": 4,
 "nbformat_minor": 2
}
