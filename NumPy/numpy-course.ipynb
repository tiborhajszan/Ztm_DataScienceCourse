{
 "cells": [
  {
   "cell_type": "code",
   "execution_count": null,
   "metadata": {},
   "outputs": [],
   "source": [
    "### imports\n",
    "import numpy, pandas\n",
    "from matplotlib import pyplot\n",
    "from matplotlib.image import imread"
   ]
  },
  {
   "cell_type": "markdown",
   "metadata": {},
   "source": [
    "## Data Types and Attributes"
   ]
  },
  {
   "cell_type": "markdown",
   "metadata": {},
   "source": [
    "#### Array dimensions"
   ]
  },
  {
   "cell_type": "markdown",
   "metadata": {},
   "source": [
    "<span style=\"color:navajowhite\">\n",
    "--- importance of array shape<br>\n",
    "shape of all input and output data arrays need to be matched for machine learning algorithm\n",
    "\n",
    "--- number of dimensions<br>\n",
    "one-dimensional array = vector (python list, pandas series)<br>\n",
    "two-dimensional array = matrix (pandas dataframe)<br>\n",
    "n-dimensional array (numpy ndarray)\n",
    "\n",
    "--- axis names<br>\n",
    "axis-0 = index = rows<br>\n",
    "axis-1 = columns\n",
    "</span>"
   ]
  },
  {
   "cell_type": "code",
   "execution_count": null,
   "metadata": {},
   "outputs": [],
   "source": [
    "### one-dimensional array\n",
    "array1d = numpy.array([1, 2, 3])\n",
    "array1d"
   ]
  },
  {
   "cell_type": "code",
   "execution_count": null,
   "metadata": {},
   "outputs": [],
   "source": [
    "### two-dimensional array\n",
    "array2d = numpy.array([\n",
    "    [1, 2.0, 3.3],\n",
    "    [4, 5, 6.5]])\n",
    "array2d"
   ]
  },
  {
   "cell_type": "code",
   "execution_count": null,
   "metadata": {},
   "outputs": [],
   "source": [
    "### three-dimensional array\n",
    "array3d = numpy.array([\n",
    "    [[1, 2, 3], [4, 5, 6], [7, 8, 9]],\n",
    "    [[10, 11, 12], [13, 14, 15], [16, 17, 18]]])\n",
    "array3d"
   ]
  },
  {
   "cell_type": "markdown",
   "metadata": {},
   "source": [
    "#### Attributes"
   ]
  },
  {
   "cell_type": "code",
   "execution_count": null,
   "metadata": {},
   "outputs": [],
   "source": [
    "### main datatype of numpy is ndarray (= n-dimensional array)\n",
    "array1d, array2d, array3d, type(array1d), type(array2d), type(array3d)"
   ]
  },
  {
   "cell_type": "code",
   "execution_count": null,
   "metadata": {},
   "outputs": [],
   "source": [
    "### ndim attribute = number of dimensions\n",
    "array1d, array2d, array3d, array1d.ndim, array2d.ndim, array3d.ndim"
   ]
  },
  {
   "cell_type": "code",
   "execution_count": null,
   "metadata": {},
   "outputs": [],
   "source": [
    "### shape attribute = size of dimensions (tuple)\n",
    "array1d, array2d, array3d, array1d.shape, array2d.shape, array3d.shape"
   ]
  },
  {
   "cell_type": "code",
   "execution_count": null,
   "metadata": {},
   "outputs": [],
   "source": [
    "### size attribute = number of all items\n",
    "array1d, array2d, array3d, array1d.size, array2d.size, array3d.size"
   ]
  },
  {
   "cell_type": "code",
   "execution_count": null,
   "metadata": {},
   "outputs": [],
   "source": [
    "### dtype attribute = data type of all items\n",
    "array1d, array2d, array3d, array1d.dtype, array2d.dtype, array3d.dtype"
   ]
  },
  {
   "cell_type": "code",
   "execution_count": null,
   "metadata": {},
   "outputs": [],
   "source": [
    "### creating pandas dataframe from numpy ndarray\n",
    "pandas.DataFrame(array2d)"
   ]
  },
  {
   "cell_type": "markdown",
   "metadata": {},
   "source": [
    "## Creating Arrays"
   ]
  },
  {
   "cell_type": "markdown",
   "metadata": {},
   "source": [
    "#### Array generators"
   ]
  },
  {
   "cell_type": "code",
   "execution_count": null,
   "metadata": {},
   "outputs": [],
   "source": [
    "### creating array pre-filled with zeros\n",
    "zeros = numpy.zeros(shape=(2, 3))\n",
    "zeros"
   ]
  },
  {
   "cell_type": "code",
   "execution_count": null,
   "metadata": {},
   "outputs": [],
   "source": [
    "### creating array pre-filled with ones\n",
    "ones = numpy.ones(shape=(3))\n",
    "ones"
   ]
  },
  {
   "cell_type": "code",
   "execution_count": null,
   "metadata": {},
   "outputs": [],
   "source": [
    "### creating array pre-filled with range\n",
    "range = numpy.arange(start=0, stop=10, step=2)\n",
    "range"
   ]
  },
  {
   "cell_type": "code",
   "execution_count": null,
   "metadata": {},
   "outputs": [],
   "source": [
    "### creating array pre-filled with random floats (between 0-1)\n",
    "rand = numpy.random.rand(5, 3)\n",
    "rand"
   ]
  },
  {
   "cell_type": "code",
   "execution_count": null,
   "metadata": {},
   "outputs": [],
   "source": [
    "### creating array pre-filled with random integers\n",
    "randint = numpy.random.randint(low=0, high=10, size=(3, 5))\n",
    "randint"
   ]
  },
  {
   "cell_type": "markdown",
   "metadata": {},
   "source": [
    "#### Pseudo-random numbers"
   ]
  },
  {
   "cell_type": "code",
   "execution_count": null,
   "metadata": {},
   "outputs": [],
   "source": [
    "\"\"\"\n",
    "--- concept\n",
    "pseudo-random numbers are generated by a mathematical formula from an initial number (seed)\n",
    "when the seed is set in advance, the formula generates the same sequence of \"random\" numbers\n",
    "\n",
    "--- usage\n",
    "to produce a reproducible sequence of \"random\" numbers\n",
    "\"\"\""
   ]
  },
  {
   "cell_type": "code",
   "execution_count": null,
   "metadata": {},
   "outputs": [],
   "source": [
    "### pseudo-random numbers\n",
    "numpy.random.seed(99999)\n",
    "pseudo_array = numpy.random.randint(low=0, high=10, size=(5, 3))\n",
    "pseudo_array"
   ]
  },
  {
   "cell_type": "markdown",
   "metadata": {},
   "source": [
    "## Viewing Arrays and Matrices"
   ]
  },
  {
   "cell_type": "code",
   "execution_count": null,
   "metadata": {},
   "outputs": [],
   "source": [
    "### finding unique values\n",
    "pseudo_array, numpy.unique(pseudo_array)"
   ]
  },
  {
   "cell_type": "code",
   "execution_count": null,
   "metadata": {},
   "outputs": [],
   "source": [
    "### array > vector indexing\n",
    "array1[0], array2[0], array3[0]"
   ]
  },
  {
   "cell_type": "code",
   "execution_count": null,
   "metadata": {},
   "outputs": [],
   "source": [
    "### array > matrix indexing and slicing\n",
    "array3[:2, :2, :2]"
   ]
  },
  {
   "cell_type": "code",
   "execution_count": null,
   "metadata": {},
   "outputs": [],
   "source": [
    "### indexing practice > display first four numbers of each innermost array\n",
    "big_array = numpy.random.randint(low=0, high=10, size=(2, 3, 4, 5))\n",
    "big_array[:, :, :, :4]"
   ]
  },
  {
   "cell_type": "markdown",
   "metadata": {},
   "source": [
    "## Manipulating Arrays"
   ]
  },
  {
   "cell_type": "markdown",
   "metadata": {},
   "source": [
    "#### Arithmetic"
   ]
  },
  {
   "cell_type": "code",
   "execution_count": null,
   "metadata": {},
   "outputs": [],
   "source": [
    "### addition\n",
    "array1, ones_array, array1 + ones_array"
   ]
  },
  {
   "cell_type": "code",
   "execution_count": null,
   "metadata": {},
   "outputs": [],
   "source": [
    "### subtraction\n",
    "array1, ones_array, array1 - ones_array"
   ]
  },
  {
   "cell_type": "code",
   "execution_count": null,
   "metadata": {},
   "outputs": [],
   "source": [
    "### multiplication\n",
    "array1, ones_array, array1 * ones_array"
   ]
  },
  {
   "cell_type": "code",
   "execution_count": null,
   "metadata": {},
   "outputs": [],
   "source": [
    "### power\n",
    "array2, array2 ** 2"
   ]
  },
  {
   "cell_type": "code",
   "execution_count": null,
   "metadata": {},
   "outputs": [],
   "source": [
    "### exponential (e^x, e = Euler's Number = 2.71828183)\n",
    "array1, numpy.exp(array1)"
   ]
  },
  {
   "cell_type": "code",
   "execution_count": null,
   "metadata": {},
   "outputs": [],
   "source": [
    "### natural logarithm\n",
    "array1, numpy.log(array1)"
   ]
  },
  {
   "cell_type": "code",
   "execution_count": null,
   "metadata": {},
   "outputs": [],
   "source": [
    "### division\n",
    "array2, array1, array2 / array1"
   ]
  },
  {
   "cell_type": "code",
   "execution_count": null,
   "metadata": {},
   "outputs": [],
   "source": [
    "### floor division (rounds down result)\n",
    "array2, array1, array2 // array1"
   ]
  },
  {
   "cell_type": "code",
   "execution_count": null,
   "metadata": {},
   "outputs": [],
   "source": [
    "### modulo\n",
    "array1, array1 % 2"
   ]
  },
  {
   "cell_type": "markdown",
   "metadata": {},
   "source": [
    "#### Aggregation"
   ]
  },
  {
   "cell_type": "code",
   "execution_count": null,
   "metadata": {},
   "outputs": [],
   "source": [
    "\"\"\"\n",
    "--- definition\n",
    "aggregation = performing same operation on multiple operands\n",
    "\n",
    "--- python versus numpy\n",
    "numpy methods are hundreds of times faster than python functions\n",
    "python functions are used on python datatypes (sum())\n",
    "numpy methods are used on numpy arrays (numpy.sum))\n",
    "\"\"\""
   ]
  },
  {
   "cell_type": "code",
   "execution_count": null,
   "metadata": {},
   "outputs": [],
   "source": [
    "### python sum() function and numpy.sum() method\n",
    "array1, sum(array1), numpy.sum(array1)"
   ]
  },
  {
   "cell_type": "code",
   "execution_count": null,
   "metadata": {},
   "outputs": [],
   "source": [
    "### python sum() versus numpy.sum()\n",
    "massive_array = numpy.random.rand(100000)\n",
    "%timeit sum(massive_array)\n",
    "%timeit numpy.sum(massive_array)"
   ]
  },
  {
   "cell_type": "code",
   "execution_count": null,
   "metadata": {},
   "outputs": [],
   "source": [
    "### numpy minimum\n",
    "numpy.min(array2)"
   ]
  },
  {
   "cell_type": "code",
   "execution_count": null,
   "metadata": {},
   "outputs": [],
   "source": [
    "### numpy mean\n",
    "numpy.mean(array2)"
   ]
  },
  {
   "cell_type": "code",
   "execution_count": null,
   "metadata": {},
   "outputs": [],
   "source": [
    "### numpy maximum\n",
    "numpy.max(array2)"
   ]
  },
  {
   "cell_type": "code",
   "execution_count": null,
   "metadata": {},
   "outputs": [],
   "source": [
    "### numpy variance\n",
    "numpy.var(array2)"
   ]
  },
  {
   "cell_type": "code",
   "execution_count": null,
   "metadata": {},
   "outputs": [],
   "source": [
    "### numpy standard deviation\n",
    "numpy.std(array2)"
   ]
  },
  {
   "cell_type": "code",
   "execution_count": null,
   "metadata": {},
   "outputs": [],
   "source": [
    "### numpy square root (std = sqrt(var))\n",
    "numpy.sqrt(numpy.var(array2))"
   ]
  },
  {
   "cell_type": "markdown",
   "metadata": {},
   "source": [
    "#### Standard Deviation and Variance"
   ]
  },
  {
   "cell_type": "code",
   "execution_count": null,
   "metadata": {},
   "outputs": [],
   "source": [
    "### standard deviation concepts\n",
    "\"\"\"\n",
    "--- resource\n",
    "https://www.mathsisfun.com/data/standard-deviation.html\n",
    "\"\"\""
   ]
  },
  {
   "cell_type": "code",
   "execution_count": null,
   "metadata": {},
   "outputs": [],
   "source": [
    "### creating arrays\n",
    "high_var = numpy.array([1, 100, 200, 300, 4000, 5000])\n",
    "low_var = numpy.array([2, 4, 6, 8, 10])"
   ]
  },
  {
   "cell_type": "code",
   "execution_count": null,
   "metadata": {},
   "outputs": [],
   "source": [
    "### computing variance\n",
    "numpy.var(high_var), numpy.var(low_var)"
   ]
  },
  {
   "cell_type": "code",
   "execution_count": null,
   "metadata": {},
   "outputs": [],
   "source": [
    "### computing standard deviation\n",
    "numpy.std(high_var), numpy.std(low_var)"
   ]
  },
  {
   "cell_type": "code",
   "execution_count": null,
   "metadata": {},
   "outputs": [],
   "source": [
    "### plotting high variance array values\n",
    "pyplot.hist(high_var)\n",
    "pyplot.show()"
   ]
  },
  {
   "cell_type": "code",
   "execution_count": null,
   "metadata": {},
   "outputs": [],
   "source": [
    "### plotting low variance array values\n",
    "pyplot.hist(low_var)\n",
    "pyplot.show()"
   ]
  },
  {
   "cell_type": "markdown",
   "metadata": {},
   "source": [
    "#### Reshaping arrays"
   ]
  },
  {
   "cell_type": "code",
   "execution_count": null,
   "metadata": {},
   "outputs": [],
   "source": [
    "\"\"\"\n",
    "broadcasting happens when doing calculations with differently shaped arrays\n",
    "smaller array is broadcast (repeated) accross larger array\n",
    "broadcast rules: two dimensions are compatible when they are equal or one of them is 1\n",
    "broadcastability requires that all corresponding dimensions of two arrays meet broadcast rules\n",
    "\"\"\""
   ]
  },
  {
   "cell_type": "code",
   "execution_count": null,
   "metadata": {},
   "outputs": [],
   "source": [
    "### compatible arrays\n",
    "array1, array2, array1 * array2"
   ]
  },
  {
   "cell_type": "code",
   "execution_count": null,
   "metadata": {},
   "outputs": [],
   "source": [
    "### incompatible arrays > value error\n",
    "# array2, array3, array2 * array3"
   ]
  },
  {
   "cell_type": "code",
   "execution_count": null,
   "metadata": {},
   "outputs": [],
   "source": [
    "### reshaping array2 to be compatible with array3\n",
    "### array2(2,3) > array2(2,3,1)\n",
    "array2_reshape = array2.reshape(2, 3, 1)\n",
    "array2, array2_reshape"
   ]
  },
  {
   "cell_type": "code",
   "execution_count": null,
   "metadata": {},
   "outputs": [],
   "source": [
    "### doing arithmetic again\n",
    "array2_reshape, array3, array2_reshape * array3"
   ]
  },
  {
   "cell_type": "markdown",
   "metadata": {},
   "source": [
    "#### Transposing arrays"
   ]
  },
  {
   "cell_type": "code",
   "execution_count": null,
   "metadata": {},
   "outputs": [],
   "source": [
    "\"\"\"\n",
    "transposing two dimensional arrays swaps axes: rows become columns and columns become rows\n",
    "transposing more than two dimensions essentially reverses order of dimensions (1,2,3,4) > (4,3,2,1)\n",
    "\"\"\""
   ]
  },
  {
   "cell_type": "code",
   "execution_count": null,
   "metadata": {},
   "outputs": [],
   "source": [
    "### original array\n",
    "array2, array2.shape"
   ]
  },
  {
   "cell_type": "code",
   "execution_count": null,
   "metadata": {},
   "outputs": [],
   "source": [
    "### transposing array\n",
    "array2_transpose = array2.T\n",
    "array2_transpose, array2_transpose.shape"
   ]
  },
  {
   "cell_type": "code",
   "execution_count": null,
   "metadata": {},
   "outputs": [],
   "source": [
    "### transposing more than two dimensions\n",
    "array4 = numpy.random.randint(low=1, high=10, size=(1, 2, 3, 4))\n",
    "array4_transpose = array4.T\n",
    "array4.shape, array4_transpose.shape"
   ]
  },
  {
   "cell_type": "markdown",
   "metadata": {},
   "source": [
    "#### Dot product"
   ]
  },
  {
   "cell_type": "code",
   "execution_count": null,
   "metadata": {},
   "outputs": [],
   "source": [
    "### dot product multiplication concepts\n",
    "\"\"\"\n",
    "--- syntax\n",
    "numpy.dot(matrix1, matrix2) > value error\n",
    "\n",
    "--- rules\n",
    "dot product multiplies rows of matrix1 with columns of matrix2, then sums result\n",
    "column numbers of matrix1 must match row numbers of matrix2\n",
    "resulting matrix shape is row numbers of matrix1 by column numbers of matrix2\n",
    "\n",
    "--- example\n",
    "(x, y) dot (w, z)\n",
    "inner dimensions must match >>> y must match w\n",
    "resulting matrix shape takes outer dimensions >>> (x, z)\n",
    "\n",
    "--- resource\n",
    "https://www.mathsisfun.com/algebra/matrix-multiplying.html\n",
    "\"\"\""
   ]
  },
  {
   "cell_type": "code",
   "execution_count": null,
   "metadata": {},
   "outputs": [],
   "source": [
    "### creating matrices\n",
    "numpy.random.seed(0)\n",
    "matrix1 = numpy.random.randint(10, size=(5, 3))\n",
    "matrix2 = numpy.random.randint(10, size=(5, 3))\n",
    "matrix1, matrix2"
   ]
  },
  {
   "cell_type": "code",
   "execution_count": null,
   "metadata": {},
   "outputs": [],
   "source": [
    "### element wise multiplication (Hadamard product)\n",
    "matrix1 * matrix2"
   ]
  },
  {
   "cell_type": "code",
   "execution_count": null,
   "metadata": {},
   "outputs": [],
   "source": [
    "### transposing matrix2\n",
    "matrix2_transpose = matrix2.T\n",
    "matrix1.shape, matrix2_transpose.shape"
   ]
  },
  {
   "cell_type": "code",
   "execution_count": null,
   "metadata": {},
   "outputs": [],
   "source": [
    "### dot product multiplication\n",
    "numpy.dot(matrix1, matrix2_transpose)"
   ]
  },
  {
   "cell_type": "markdown",
   "metadata": {},
   "source": [
    "#### Dot product exercise (nut butter sales)"
   ]
  },
  {
   "cell_type": "code",
   "execution_count": null,
   "metadata": {},
   "outputs": [],
   "source": [
    "### creating arrays\n",
    "numpy.random.seed(0)\n",
    "sales_amounts = numpy.random.randint(20, size=(5,3))\n",
    "sales_prices = numpy.array([10, 8, 12])\n",
    "sales_amounts, sales_prices"
   ]
  },
  {
   "cell_type": "code",
   "execution_count": null,
   "metadata": {},
   "outputs": [],
   "source": [
    "### creating dataframes\n",
    "weekly_sales = pandas.DataFrame(\n",
    "    sales_amounts,\n",
    "    index=[\"Mon\", \"Tue\", \"Wed\", \"Thu\", \"Fri\"],\n",
    "    columns=[\"Almond butter\", \"Peanut butter\", \"Cashew butter\"])\n",
    "butter_prices = pandas.DataFrame(\n",
    "    sales_prices.reshape(1,3),\n",
    "    index=[\"Price\"],\n",
    "    columns=[\"Almond butter\", \"Peanut butter\", \"Cashew butter\"])\n",
    "weekly_sales, butter_prices"
   ]
  },
  {
   "cell_type": "code",
   "execution_count": null,
   "metadata": {},
   "outputs": [],
   "source": [
    "### computing total sales\n",
    "total_sales = butter_prices.dot(weekly_sales.T)\n",
    "weekly_sales[\"Total ($)\"] = total_sales.T\n",
    "weekly_sales"
   ]
  },
  {
   "cell_type": "markdown",
   "metadata": {},
   "source": [
    "## Comparing Arrays"
   ]
  },
  {
   "cell_type": "code",
   "execution_count": null,
   "metadata": {},
   "outputs": [],
   "source": [
    "### concepts\n",
    "\"\"\"\n",
    "numpy uses the same comparison operators as python\n",
    "comparison operators are also available as numpy methods\n",
    "comparison is element-wise, broadcasting rules probably apply\n",
    "results are returned as boolean array with dimensions matching those of bigger array\n",
    "\"\"\""
   ]
  },
  {
   "cell_type": "code",
   "execution_count": null,
   "metadata": {},
   "outputs": [],
   "source": [
    "### comparing array to array\n",
    "bool_array = array1 <= array2\n",
    "bool_array, type(bool_array), bool_array.dtype"
   ]
  },
  {
   "cell_type": "code",
   "execution_count": null,
   "metadata": {},
   "outputs": [],
   "source": [
    "### comparing array to literal\n",
    "array1 < 5"
   ]
  },
  {
   "cell_type": "markdown",
   "metadata": {},
   "source": [
    "## Sorting Arrays"
   ]
  },
  {
   "cell_type": "code",
   "execution_count": null,
   "metadata": {},
   "outputs": [],
   "source": [
    "### numpy sort method\n",
    "\"\"\"\n",
    "sorts values along last (innermost) dimension\n",
    "returns array with sorted values\n",
    "\"\"\"\n",
    "randint_array, numpy.sort(randint_array)"
   ]
  },
  {
   "cell_type": "code",
   "execution_count": null,
   "metadata": {},
   "outputs": [],
   "source": [
    "### numpy argsort method\n",
    "\"\"\"\n",
    "sorts values along last (innermost) dimension\n",
    "returns array with indexes of sorted values\n",
    "\"\"\"\n",
    "randint_array, numpy.argsort(randint_array)"
   ]
  },
  {
   "cell_type": "code",
   "execution_count": null,
   "metadata": {},
   "outputs": [],
   "source": [
    "### numpy argmin method\n",
    "\"\"\"\n",
    "finds minimum values along last (innermost) dimension\n",
    "returns array with indexes of minimum values\n",
    "\"\"\"\n",
    "array1, numpy.argmin(array1)"
   ]
  },
  {
   "cell_type": "code",
   "execution_count": null,
   "metadata": {},
   "outputs": [],
   "source": [
    "### numpy argmax method\n",
    "\"\"\"\n",
    "finds maximum values along last (innermost) dimension\n",
    "returns array with indexes of maximum values\n",
    "\"\"\"\n",
    "array1, numpy.argmax(array1)"
   ]
  },
  {
   "cell_type": "code",
   "execution_count": null,
   "metadata": {},
   "outputs": [],
   "source": [
    "### axis parameter = 0\n",
    "\"\"\"\n",
    "numpy sorting method works along axis 0  (rows / vertically)\n",
    "\"\"\"\n",
    "randint_array, numpy.argmax(randint_array, axis=0)"
   ]
  },
  {
   "cell_type": "code",
   "execution_count": null,
   "metadata": {},
   "outputs": [],
   "source": [
    "### axis parameter = 1\n",
    "\"\"\"\n",
    "numpy sorting method works along axis 1 (columns / horizontally)\n",
    "\"\"\"\n",
    "randint_array, numpy.argmax(randint_array, axis=1)"
   ]
  },
  {
   "cell_type": "markdown",
   "metadata": {},
   "source": [
    "## NumPy in Action"
   ]
  },
  {
   "cell_type": "markdown",
   "metadata": {},
   "source": [
    "<img src=\"photo-dog.png\"/>"
   ]
  },
  {
   "cell_type": "code",
   "execution_count": null,
   "metadata": {},
   "outputs": [],
   "source": [
    "### turn image into numpy array\n",
    "img_array = imread(\"photo-dog.png\")\n",
    "img_array"
   ]
  },
  {
   "cell_type": "code",
   "execution_count": null,
   "metadata": {},
   "outputs": [],
   "source": [
    "### viewing image array attributes\n",
    "type(img_array), img_array.ndim, img_array.shape, img_array.size"
   ]
  },
  {
   "cell_type": "code",
   "execution_count": null,
   "metadata": {},
   "outputs": [],
   "source": [
    "### what is in image array?\n",
    "\"\"\"\n",
    "image array contains RGB/RGBA values for each pixel\n",
    "\"\"\"\n",
    "img_array[:3]"
   ]
  }
 ],
 "metadata": {
  "kernelspec": {
   "display_name": "Python 3.8.10 ('Ztm_Code': venv)",
   "language": "python",
   "name": "python3"
  },
  "language_info": {
   "codemirror_mode": {
    "name": "ipython",
    "version": 3
   },
   "file_extension": ".py",
   "mimetype": "text/x-python",
   "name": "python",
   "nbconvert_exporter": "python",
   "pygments_lexer": "ipython3",
   "version": "3.8.10"
  },
  "orig_nbformat": 4,
  "vscode": {
   "interpreter": {
    "hash": "6d135630f3aba14e844087208813e69ab65195afd4ab5238b4ebe56330592421"
   }
  }
 },
 "nbformat": 4,
 "nbformat_minor": 2
}
